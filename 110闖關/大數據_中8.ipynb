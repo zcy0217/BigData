{
  "nbformat": 4,
  "nbformat_minor": 0,
  "metadata": {
    "colab": {
      "name": "大數據-中8",
      "provenance": [],
      "collapsed_sections": []
    },
    "kernelspec": {
      "name": "python3",
      "display_name": "Python 3"
    },
    "language_info": {
      "name": "python"
    }
  },
  "cells": [
    {
      "cell_type": "code",
      "metadata": {
        "id": "-Q9EIM__kUru"
      },
      "source": [
        "import pandas as pd\n",
        "import numpy as np\n",
        "import seaborn as sns"
      ],
      "execution_count": null,
      "outputs": []
    },
    {
      "cell_type": "code",
      "metadata": {
        "id": "6431oXC2k1Cq"
      },
      "source": [
        "from google.colab import files\n",
        "data=pd.read_csv('StudentsPerformance.csv')"
      ],
      "execution_count": null,
      "outputs": []
    },
    {
      "cell_type": "code",
      "metadata": {
        "colab": {
          "base_uri": "https://localhost:8080/",
          "height": 391
        },
        "id": "lW3_TYkOlzrN",
        "outputId": "77a8ba31-2e01-418b-d1b7-c8cadb74a287"
      },
      "source": [
        "data.head()"
      ],
      "execution_count": null,
      "outputs": [
        {
          "output_type": "execute_result",
          "data": {
            "text/plain": [
              "   gender race/ethnicity parental level of education         lunch  \\\n",
              "0  female        group B           bachelor's degree      standard   \n",
              "1  female        group C                some college      standard   \n",
              "2  female        group B             master's degree      standard   \n",
              "3    male        group A          associate's degree  free/reduced   \n",
              "4    male        group C                some college      standard   \n",
              "\n",
              "  test preparation course  math score  reading score  writing score  \n",
              "0                    none          72             72             74  \n",
              "1               completed          69             90             88  \n",
              "2                    none          90             95             93  \n",
              "3                    none          47             57             44  \n",
              "4                    none          76             78             75  "
            ],
            "text/html": [
              "\n",
              "  <div id=\"df-67dbe7c9-bd2f-4bbe-9c7c-94d7a4b0945d\">\n",
              "    <div class=\"colab-df-container\">\n",
              "      <div>\n",
              "<style scoped>\n",
              "    .dataframe tbody tr th:only-of-type {\n",
              "        vertical-align: middle;\n",
              "    }\n",
              "\n",
              "    .dataframe tbody tr th {\n",
              "        vertical-align: top;\n",
              "    }\n",
              "\n",
              "    .dataframe thead th {\n",
              "        text-align: right;\n",
              "    }\n",
              "</style>\n",
              "<table border=\"1\" class=\"dataframe\">\n",
              "  <thead>\n",
              "    <tr style=\"text-align: right;\">\n",
              "      <th></th>\n",
              "      <th>gender</th>\n",
              "      <th>race/ethnicity</th>\n",
              "      <th>parental level of education</th>\n",
              "      <th>lunch</th>\n",
              "      <th>test preparation course</th>\n",
              "      <th>math score</th>\n",
              "      <th>reading score</th>\n",
              "      <th>writing score</th>\n",
              "    </tr>\n",
              "  </thead>\n",
              "  <tbody>\n",
              "    <tr>\n",
              "      <th>0</th>\n",
              "      <td>female</td>\n",
              "      <td>group B</td>\n",
              "      <td>bachelor's degree</td>\n",
              "      <td>standard</td>\n",
              "      <td>none</td>\n",
              "      <td>72</td>\n",
              "      <td>72</td>\n",
              "      <td>74</td>\n",
              "    </tr>\n",
              "    <tr>\n",
              "      <th>1</th>\n",
              "      <td>female</td>\n",
              "      <td>group C</td>\n",
              "      <td>some college</td>\n",
              "      <td>standard</td>\n",
              "      <td>completed</td>\n",
              "      <td>69</td>\n",
              "      <td>90</td>\n",
              "      <td>88</td>\n",
              "    </tr>\n",
              "    <tr>\n",
              "      <th>2</th>\n",
              "      <td>female</td>\n",
              "      <td>group B</td>\n",
              "      <td>master's degree</td>\n",
              "      <td>standard</td>\n",
              "      <td>none</td>\n",
              "      <td>90</td>\n",
              "      <td>95</td>\n",
              "      <td>93</td>\n",
              "    </tr>\n",
              "    <tr>\n",
              "      <th>3</th>\n",
              "      <td>male</td>\n",
              "      <td>group A</td>\n",
              "      <td>associate's degree</td>\n",
              "      <td>free/reduced</td>\n",
              "      <td>none</td>\n",
              "      <td>47</td>\n",
              "      <td>57</td>\n",
              "      <td>44</td>\n",
              "    </tr>\n",
              "    <tr>\n",
              "      <th>4</th>\n",
              "      <td>male</td>\n",
              "      <td>group C</td>\n",
              "      <td>some college</td>\n",
              "      <td>standard</td>\n",
              "      <td>none</td>\n",
              "      <td>76</td>\n",
              "      <td>78</td>\n",
              "      <td>75</td>\n",
              "    </tr>\n",
              "  </tbody>\n",
              "</table>\n",
              "</div>\n",
              "      <button class=\"colab-df-convert\" onclick=\"convertToInteractive('df-67dbe7c9-bd2f-4bbe-9c7c-94d7a4b0945d')\"\n",
              "              title=\"Convert this dataframe to an interactive table.\"\n",
              "              style=\"display:none;\">\n",
              "        \n",
              "  <svg xmlns=\"http://www.w3.org/2000/svg\" height=\"24px\"viewBox=\"0 0 24 24\"\n",
              "       width=\"24px\">\n",
              "    <path d=\"M0 0h24v24H0V0z\" fill=\"none\"/>\n",
              "    <path d=\"M18.56 5.44l.94 2.06.94-2.06 2.06-.94-2.06-.94-.94-2.06-.94 2.06-2.06.94zm-11 1L8.5 8.5l.94-2.06 2.06-.94-2.06-.94L8.5 2.5l-.94 2.06-2.06.94zm10 10l.94 2.06.94-2.06 2.06-.94-2.06-.94-.94-2.06-.94 2.06-2.06.94z\"/><path d=\"M17.41 7.96l-1.37-1.37c-.4-.4-.92-.59-1.43-.59-.52 0-1.04.2-1.43.59L10.3 9.45l-7.72 7.72c-.78.78-.78 2.05 0 2.83L4 21.41c.39.39.9.59 1.41.59.51 0 1.02-.2 1.41-.59l7.78-7.78 2.81-2.81c.8-.78.8-2.07 0-2.86zM5.41 20L4 18.59l7.72-7.72 1.47 1.35L5.41 20z\"/>\n",
              "  </svg>\n",
              "      </button>\n",
              "      \n",
              "  <style>\n",
              "    .colab-df-container {\n",
              "      display:flex;\n",
              "      flex-wrap:wrap;\n",
              "      gap: 12px;\n",
              "    }\n",
              "\n",
              "    .colab-df-convert {\n",
              "      background-color: #E8F0FE;\n",
              "      border: none;\n",
              "      border-radius: 50%;\n",
              "      cursor: pointer;\n",
              "      display: none;\n",
              "      fill: #1967D2;\n",
              "      height: 32px;\n",
              "      padding: 0 0 0 0;\n",
              "      width: 32px;\n",
              "    }\n",
              "\n",
              "    .colab-df-convert:hover {\n",
              "      background-color: #E2EBFA;\n",
              "      box-shadow: 0px 1px 2px rgba(60, 64, 67, 0.3), 0px 1px 3px 1px rgba(60, 64, 67, 0.15);\n",
              "      fill: #174EA6;\n",
              "    }\n",
              "\n",
              "    [theme=dark] .colab-df-convert {\n",
              "      background-color: #3B4455;\n",
              "      fill: #D2E3FC;\n",
              "    }\n",
              "\n",
              "    [theme=dark] .colab-df-convert:hover {\n",
              "      background-color: #434B5C;\n",
              "      box-shadow: 0px 1px 3px 1px rgba(0, 0, 0, 0.15);\n",
              "      filter: drop-shadow(0px 1px 2px rgba(0, 0, 0, 0.3));\n",
              "      fill: #FFFFFF;\n",
              "    }\n",
              "  </style>\n",
              "\n",
              "      <script>\n",
              "        const buttonEl =\n",
              "          document.querySelector('#df-67dbe7c9-bd2f-4bbe-9c7c-94d7a4b0945d button.colab-df-convert');\n",
              "        buttonEl.style.display =\n",
              "          google.colab.kernel.accessAllowed ? 'block' : 'none';\n",
              "\n",
              "        async function convertToInteractive(key) {\n",
              "          const element = document.querySelector('#df-67dbe7c9-bd2f-4bbe-9c7c-94d7a4b0945d');\n",
              "          const dataTable =\n",
              "            await google.colab.kernel.invokeFunction('convertToInteractive',\n",
              "                                                     [key], {});\n",
              "          if (!dataTable) return;\n",
              "\n",
              "          const docLinkHtml = 'Like what you see? Visit the ' +\n",
              "            '<a target=\"_blank\" href=https://colab.research.google.com/notebooks/data_table.ipynb>data table notebook</a>'\n",
              "            + ' to learn more about interactive tables.';\n",
              "          element.innerHTML = '';\n",
              "          dataTable['output_type'] = 'display_data';\n",
              "          await google.colab.output.renderOutput(dataTable, element);\n",
              "          const docLink = document.createElement('div');\n",
              "          docLink.innerHTML = docLinkHtml;\n",
              "          element.appendChild(docLink);\n",
              "        }\n",
              "      </script>\n",
              "    </div>\n",
              "  </div>\n",
              "  "
            ]
          },
          "metadata": {},
          "execution_count": 3
        }
      ]
    },
    {
      "cell_type": "markdown",
      "metadata": {
        "id": "Y9epxCj2mwUt"
      },
      "source": [
        "#第一題"
      ]
    },
    {
      "cell_type": "code",
      "metadata": {
        "colab": {
          "base_uri": "https://localhost:8080/",
          "height": 143
        },
        "id": "qQULC6fceXM2",
        "outputId": "a2ae955b-c6eb-4fc3-b72e-7fee2495f93a"
      },
      "source": [
        "f=data.groupby('gender')\n",
        "frequence=f.size()\n",
        "flist=pd.DataFrame(frequence,columns=['Frequence_性別'])\n",
        "f=data.groupby('gender')\n",
        "percentage=f.size()/len(data)\n",
        "plist=pd.DataFrame(percentage,columns=[\"Percentage_性別\"])\n",
        "flist.merge(plist,on = 'gender')"
      ],
      "execution_count": null,
      "outputs": [
        {
          "output_type": "execute_result",
          "data": {
            "text/html": [
              "\n",
              "  <div id=\"df-a81ced1d-8984-49e2-a601-a96d1676379a\">\n",
              "    <div class=\"colab-df-container\">\n",
              "      <div>\n",
              "<style scoped>\n",
              "    .dataframe tbody tr th:only-of-type {\n",
              "        vertical-align: middle;\n",
              "    }\n",
              "\n",
              "    .dataframe tbody tr th {\n",
              "        vertical-align: top;\n",
              "    }\n",
              "\n",
              "    .dataframe thead th {\n",
              "        text-align: right;\n",
              "    }\n",
              "</style>\n",
              "<table border=\"1\" class=\"dataframe\">\n",
              "  <thead>\n",
              "    <tr style=\"text-align: right;\">\n",
              "      <th></th>\n",
              "      <th>Frequence_性別</th>\n",
              "      <th>Percentage_性別</th>\n",
              "    </tr>\n",
              "    <tr>\n",
              "      <th>gender</th>\n",
              "      <th></th>\n",
              "      <th></th>\n",
              "    </tr>\n",
              "  </thead>\n",
              "  <tbody>\n",
              "    <tr>\n",
              "      <th>female</th>\n",
              "      <td>518</td>\n",
              "      <td>0.518</td>\n",
              "    </tr>\n",
              "    <tr>\n",
              "      <th>male</th>\n",
              "      <td>482</td>\n",
              "      <td>0.482</td>\n",
              "    </tr>\n",
              "  </tbody>\n",
              "</table>\n",
              "</div>\n",
              "      <button class=\"colab-df-convert\" onclick=\"convertToInteractive('df-a81ced1d-8984-49e2-a601-a96d1676379a')\"\n",
              "              title=\"Convert this dataframe to an interactive table.\"\n",
              "              style=\"display:none;\">\n",
              "        \n",
              "  <svg xmlns=\"http://www.w3.org/2000/svg\" height=\"24px\"viewBox=\"0 0 24 24\"\n",
              "       width=\"24px\">\n",
              "    <path d=\"M0 0h24v24H0V0z\" fill=\"none\"/>\n",
              "    <path d=\"M18.56 5.44l.94 2.06.94-2.06 2.06-.94-2.06-.94-.94-2.06-.94 2.06-2.06.94zm-11 1L8.5 8.5l.94-2.06 2.06-.94-2.06-.94L8.5 2.5l-.94 2.06-2.06.94zm10 10l.94 2.06.94-2.06 2.06-.94-2.06-.94-.94-2.06-.94 2.06-2.06.94z\"/><path d=\"M17.41 7.96l-1.37-1.37c-.4-.4-.92-.59-1.43-.59-.52 0-1.04.2-1.43.59L10.3 9.45l-7.72 7.72c-.78.78-.78 2.05 0 2.83L4 21.41c.39.39.9.59 1.41.59.51 0 1.02-.2 1.41-.59l7.78-7.78 2.81-2.81c.8-.78.8-2.07 0-2.86zM5.41 20L4 18.59l7.72-7.72 1.47 1.35L5.41 20z\"/>\n",
              "  </svg>\n",
              "      </button>\n",
              "      \n",
              "  <style>\n",
              "    .colab-df-container {\n",
              "      display:flex;\n",
              "      flex-wrap:wrap;\n",
              "      gap: 12px;\n",
              "    }\n",
              "\n",
              "    .colab-df-convert {\n",
              "      background-color: #E8F0FE;\n",
              "      border: none;\n",
              "      border-radius: 50%;\n",
              "      cursor: pointer;\n",
              "      display: none;\n",
              "      fill: #1967D2;\n",
              "      height: 32px;\n",
              "      padding: 0 0 0 0;\n",
              "      width: 32px;\n",
              "    }\n",
              "\n",
              "    .colab-df-convert:hover {\n",
              "      background-color: #E2EBFA;\n",
              "      box-shadow: 0px 1px 2px rgba(60, 64, 67, 0.3), 0px 1px 3px 1px rgba(60, 64, 67, 0.15);\n",
              "      fill: #174EA6;\n",
              "    }\n",
              "\n",
              "    [theme=dark] .colab-df-convert {\n",
              "      background-color: #3B4455;\n",
              "      fill: #D2E3FC;\n",
              "    }\n",
              "\n",
              "    [theme=dark] .colab-df-convert:hover {\n",
              "      background-color: #434B5C;\n",
              "      box-shadow: 0px 1px 3px 1px rgba(0, 0, 0, 0.15);\n",
              "      filter: drop-shadow(0px 1px 2px rgba(0, 0, 0, 0.3));\n",
              "      fill: #FFFFFF;\n",
              "    }\n",
              "  </style>\n",
              "\n",
              "      <script>\n",
              "        const buttonEl =\n",
              "          document.querySelector('#df-a81ced1d-8984-49e2-a601-a96d1676379a button.colab-df-convert');\n",
              "        buttonEl.style.display =\n",
              "          google.colab.kernel.accessAllowed ? 'block' : 'none';\n",
              "\n",
              "        async function convertToInteractive(key) {\n",
              "          const element = document.querySelector('#df-a81ced1d-8984-49e2-a601-a96d1676379a');\n",
              "          const dataTable =\n",
              "            await google.colab.kernel.invokeFunction('convertToInteractive',\n",
              "                                                     [key], {});\n",
              "          if (!dataTable) return;\n",
              "\n",
              "          const docLinkHtml = 'Like what you see? Visit the ' +\n",
              "            '<a target=\"_blank\" href=https://colab.research.google.com/notebooks/data_table.ipynb>data table notebook</a>'\n",
              "            + ' to learn more about interactive tables.';\n",
              "          element.innerHTML = '';\n",
              "          dataTable['output_type'] = 'display_data';\n",
              "          await google.colab.output.renderOutput(dataTable, element);\n",
              "          const docLink = document.createElement('div');\n",
              "          docLink.innerHTML = docLinkHtml;\n",
              "          element.appendChild(docLink);\n",
              "        }\n",
              "      </script>\n",
              "    </div>\n",
              "  </div>\n",
              "  "
            ],
            "text/plain": [
              "        Frequence_性別  Percentage_性別\n",
              "gender                             \n",
              "female           518          0.518\n",
              "male             482          0.482"
            ]
          },
          "metadata": {},
          "execution_count": 5
        }
      ]
    },
    {
      "cell_type": "markdown",
      "metadata": {
        "id": "mO7jdOlNdjf8"
      },
      "source": [
        "在性別這筆資料當中\n",
        "\n",
        "女生518人\n",
        "\n",
        "男生482人\n",
        "\n",
        "比例為0.518:0.482"
      ]
    },
    {
      "cell_type": "code",
      "metadata": {
        "colab": {
          "base_uri": "https://localhost:8080/",
          "height": 237
        },
        "id": "oE7nmeW8et5_",
        "outputId": "c57e78ff-8c18-4e71-b5c0-13b7a1f6d3d2"
      },
      "source": [
        "f=data.groupby('race/ethnicity')\n",
        "frequence=f.size()\n",
        "flist=pd.DataFrame(frequence,columns=['Frequence_組別'])\n",
        "f=data.groupby('race/ethnicity')\n",
        "percentage=f.size()/len(data)\n",
        "plist=pd.DataFrame(percentage,columns=[\"Percentage_組別\"])\n",
        "flist.merge(plist,on = 'race/ethnicity')"
      ],
      "execution_count": null,
      "outputs": [
        {
          "output_type": "execute_result",
          "data": {
            "text/html": [
              "\n",
              "  <div id=\"df-fd6dcfc4-c0e4-4558-90bb-1acf3cae2ecb\">\n",
              "    <div class=\"colab-df-container\">\n",
              "      <div>\n",
              "<style scoped>\n",
              "    .dataframe tbody tr th:only-of-type {\n",
              "        vertical-align: middle;\n",
              "    }\n",
              "\n",
              "    .dataframe tbody tr th {\n",
              "        vertical-align: top;\n",
              "    }\n",
              "\n",
              "    .dataframe thead th {\n",
              "        text-align: right;\n",
              "    }\n",
              "</style>\n",
              "<table border=\"1\" class=\"dataframe\">\n",
              "  <thead>\n",
              "    <tr style=\"text-align: right;\">\n",
              "      <th></th>\n",
              "      <th>Frequence_組別</th>\n",
              "      <th>Percentage_組別</th>\n",
              "    </tr>\n",
              "    <tr>\n",
              "      <th>race/ethnicity</th>\n",
              "      <th></th>\n",
              "      <th></th>\n",
              "    </tr>\n",
              "  </thead>\n",
              "  <tbody>\n",
              "    <tr>\n",
              "      <th>group A</th>\n",
              "      <td>89</td>\n",
              "      <td>0.089</td>\n",
              "    </tr>\n",
              "    <tr>\n",
              "      <th>group B</th>\n",
              "      <td>190</td>\n",
              "      <td>0.190</td>\n",
              "    </tr>\n",
              "    <tr>\n",
              "      <th>group C</th>\n",
              "      <td>319</td>\n",
              "      <td>0.319</td>\n",
              "    </tr>\n",
              "    <tr>\n",
              "      <th>group D</th>\n",
              "      <td>262</td>\n",
              "      <td>0.262</td>\n",
              "    </tr>\n",
              "    <tr>\n",
              "      <th>group E</th>\n",
              "      <td>140</td>\n",
              "      <td>0.140</td>\n",
              "    </tr>\n",
              "  </tbody>\n",
              "</table>\n",
              "</div>\n",
              "      <button class=\"colab-df-convert\" onclick=\"convertToInteractive('df-fd6dcfc4-c0e4-4558-90bb-1acf3cae2ecb')\"\n",
              "              title=\"Convert this dataframe to an interactive table.\"\n",
              "              style=\"display:none;\">\n",
              "        \n",
              "  <svg xmlns=\"http://www.w3.org/2000/svg\" height=\"24px\"viewBox=\"0 0 24 24\"\n",
              "       width=\"24px\">\n",
              "    <path d=\"M0 0h24v24H0V0z\" fill=\"none\"/>\n",
              "    <path d=\"M18.56 5.44l.94 2.06.94-2.06 2.06-.94-2.06-.94-.94-2.06-.94 2.06-2.06.94zm-11 1L8.5 8.5l.94-2.06 2.06-.94-2.06-.94L8.5 2.5l-.94 2.06-2.06.94zm10 10l.94 2.06.94-2.06 2.06-.94-2.06-.94-.94-2.06-.94 2.06-2.06.94z\"/><path d=\"M17.41 7.96l-1.37-1.37c-.4-.4-.92-.59-1.43-.59-.52 0-1.04.2-1.43.59L10.3 9.45l-7.72 7.72c-.78.78-.78 2.05 0 2.83L4 21.41c.39.39.9.59 1.41.59.51 0 1.02-.2 1.41-.59l7.78-7.78 2.81-2.81c.8-.78.8-2.07 0-2.86zM5.41 20L4 18.59l7.72-7.72 1.47 1.35L5.41 20z\"/>\n",
              "  </svg>\n",
              "      </button>\n",
              "      \n",
              "  <style>\n",
              "    .colab-df-container {\n",
              "      display:flex;\n",
              "      flex-wrap:wrap;\n",
              "      gap: 12px;\n",
              "    }\n",
              "\n",
              "    .colab-df-convert {\n",
              "      background-color: #E8F0FE;\n",
              "      border: none;\n",
              "      border-radius: 50%;\n",
              "      cursor: pointer;\n",
              "      display: none;\n",
              "      fill: #1967D2;\n",
              "      height: 32px;\n",
              "      padding: 0 0 0 0;\n",
              "      width: 32px;\n",
              "    }\n",
              "\n",
              "    .colab-df-convert:hover {\n",
              "      background-color: #E2EBFA;\n",
              "      box-shadow: 0px 1px 2px rgba(60, 64, 67, 0.3), 0px 1px 3px 1px rgba(60, 64, 67, 0.15);\n",
              "      fill: #174EA6;\n",
              "    }\n",
              "\n",
              "    [theme=dark] .colab-df-convert {\n",
              "      background-color: #3B4455;\n",
              "      fill: #D2E3FC;\n",
              "    }\n",
              "\n",
              "    [theme=dark] .colab-df-convert:hover {\n",
              "      background-color: #434B5C;\n",
              "      box-shadow: 0px 1px 3px 1px rgba(0, 0, 0, 0.15);\n",
              "      filter: drop-shadow(0px 1px 2px rgba(0, 0, 0, 0.3));\n",
              "      fill: #FFFFFF;\n",
              "    }\n",
              "  </style>\n",
              "\n",
              "      <script>\n",
              "        const buttonEl =\n",
              "          document.querySelector('#df-fd6dcfc4-c0e4-4558-90bb-1acf3cae2ecb button.colab-df-convert');\n",
              "        buttonEl.style.display =\n",
              "          google.colab.kernel.accessAllowed ? 'block' : 'none';\n",
              "\n",
              "        async function convertToInteractive(key) {\n",
              "          const element = document.querySelector('#df-fd6dcfc4-c0e4-4558-90bb-1acf3cae2ecb');\n",
              "          const dataTable =\n",
              "            await google.colab.kernel.invokeFunction('convertToInteractive',\n",
              "                                                     [key], {});\n",
              "          if (!dataTable) return;\n",
              "\n",
              "          const docLinkHtml = 'Like what you see? Visit the ' +\n",
              "            '<a target=\"_blank\" href=https://colab.research.google.com/notebooks/data_table.ipynb>data table notebook</a>'\n",
              "            + ' to learn more about interactive tables.';\n",
              "          element.innerHTML = '';\n",
              "          dataTable['output_type'] = 'display_data';\n",
              "          await google.colab.output.renderOutput(dataTable, element);\n",
              "          const docLink = document.createElement('div');\n",
              "          docLink.innerHTML = docLinkHtml;\n",
              "          element.appendChild(docLink);\n",
              "        }\n",
              "      </script>\n",
              "    </div>\n",
              "  </div>\n",
              "  "
            ],
            "text/plain": [
              "                Frequence_組別  Percentage_組別\n",
              "race/ethnicity                             \n",
              "group A                   89          0.089\n",
              "group B                  190          0.190\n",
              "group C                  319          0.319\n",
              "group D                  262          0.262\n",
              "group E                  140          0.140"
            ]
          },
          "metadata": {},
          "execution_count": 6
        }
      ]
    },
    {
      "cell_type": "markdown",
      "metadata": {
        "id": "hsoWzHvMeznS"
      },
      "source": [
        "在組別這筆資料當中\n",
        "\n",
        "A組89人\n",
        "\n",
        "B組190人\n",
        "\n",
        "C組319人\n",
        "\n",
        "D組262人\n",
        "\n",
        "E組140人\n",
        "\n",
        "比例為0.089:0.190:0.319:0.262:0.140"
      ]
    },
    {
      "cell_type": "code",
      "metadata": {
        "colab": {
          "base_uri": "https://localhost:8080/",
          "height": 269
        },
        "id": "mRMxhgrFfDLP",
        "outputId": "b92a70ff-5433-438a-a45a-64e59f257664"
      },
      "source": [
        "f=data.groupby('parental level of education')\n",
        "frequence=f.size()\n",
        "flist=pd.DataFrame(frequence,columns=['Frequence_家長教育程度'])\n",
        "percentage=f.size()/len(data)\n",
        "plist=pd.DataFrame(percentage,columns=[\"Percentage_家長教育程度\"])\n",
        "flist.merge(plist,on = 'parental level of education')"
      ],
      "execution_count": null,
      "outputs": [
        {
          "output_type": "execute_result",
          "data": {
            "text/html": [
              "\n",
              "  <div id=\"df-f8b771f8-1f39-4210-a559-17fec97e4f75\">\n",
              "    <div class=\"colab-df-container\">\n",
              "      <div>\n",
              "<style scoped>\n",
              "    .dataframe tbody tr th:only-of-type {\n",
              "        vertical-align: middle;\n",
              "    }\n",
              "\n",
              "    .dataframe tbody tr th {\n",
              "        vertical-align: top;\n",
              "    }\n",
              "\n",
              "    .dataframe thead th {\n",
              "        text-align: right;\n",
              "    }\n",
              "</style>\n",
              "<table border=\"1\" class=\"dataframe\">\n",
              "  <thead>\n",
              "    <tr style=\"text-align: right;\">\n",
              "      <th></th>\n",
              "      <th>Frequence_家長教育程度</th>\n",
              "      <th>Percentage_家長教育程度</th>\n",
              "    </tr>\n",
              "    <tr>\n",
              "      <th>parental level of education</th>\n",
              "      <th></th>\n",
              "      <th></th>\n",
              "    </tr>\n",
              "  </thead>\n",
              "  <tbody>\n",
              "    <tr>\n",
              "      <th>associate's degree</th>\n",
              "      <td>222</td>\n",
              "      <td>0.222</td>\n",
              "    </tr>\n",
              "    <tr>\n",
              "      <th>bachelor's degree</th>\n",
              "      <td>118</td>\n",
              "      <td>0.118</td>\n",
              "    </tr>\n",
              "    <tr>\n",
              "      <th>high school</th>\n",
              "      <td>196</td>\n",
              "      <td>0.196</td>\n",
              "    </tr>\n",
              "    <tr>\n",
              "      <th>master's degree</th>\n",
              "      <td>59</td>\n",
              "      <td>0.059</td>\n",
              "    </tr>\n",
              "    <tr>\n",
              "      <th>some college</th>\n",
              "      <td>226</td>\n",
              "      <td>0.226</td>\n",
              "    </tr>\n",
              "    <tr>\n",
              "      <th>some high school</th>\n",
              "      <td>179</td>\n",
              "      <td>0.179</td>\n",
              "    </tr>\n",
              "  </tbody>\n",
              "</table>\n",
              "</div>\n",
              "      <button class=\"colab-df-convert\" onclick=\"convertToInteractive('df-f8b771f8-1f39-4210-a559-17fec97e4f75')\"\n",
              "              title=\"Convert this dataframe to an interactive table.\"\n",
              "              style=\"display:none;\">\n",
              "        \n",
              "  <svg xmlns=\"http://www.w3.org/2000/svg\" height=\"24px\"viewBox=\"0 0 24 24\"\n",
              "       width=\"24px\">\n",
              "    <path d=\"M0 0h24v24H0V0z\" fill=\"none\"/>\n",
              "    <path d=\"M18.56 5.44l.94 2.06.94-2.06 2.06-.94-2.06-.94-.94-2.06-.94 2.06-2.06.94zm-11 1L8.5 8.5l.94-2.06 2.06-.94-2.06-.94L8.5 2.5l-.94 2.06-2.06.94zm10 10l.94 2.06.94-2.06 2.06-.94-2.06-.94-.94-2.06-.94 2.06-2.06.94z\"/><path d=\"M17.41 7.96l-1.37-1.37c-.4-.4-.92-.59-1.43-.59-.52 0-1.04.2-1.43.59L10.3 9.45l-7.72 7.72c-.78.78-.78 2.05 0 2.83L4 21.41c.39.39.9.59 1.41.59.51 0 1.02-.2 1.41-.59l7.78-7.78 2.81-2.81c.8-.78.8-2.07 0-2.86zM5.41 20L4 18.59l7.72-7.72 1.47 1.35L5.41 20z\"/>\n",
              "  </svg>\n",
              "      </button>\n",
              "      \n",
              "  <style>\n",
              "    .colab-df-container {\n",
              "      display:flex;\n",
              "      flex-wrap:wrap;\n",
              "      gap: 12px;\n",
              "    }\n",
              "\n",
              "    .colab-df-convert {\n",
              "      background-color: #E8F0FE;\n",
              "      border: none;\n",
              "      border-radius: 50%;\n",
              "      cursor: pointer;\n",
              "      display: none;\n",
              "      fill: #1967D2;\n",
              "      height: 32px;\n",
              "      padding: 0 0 0 0;\n",
              "      width: 32px;\n",
              "    }\n",
              "\n",
              "    .colab-df-convert:hover {\n",
              "      background-color: #E2EBFA;\n",
              "      box-shadow: 0px 1px 2px rgba(60, 64, 67, 0.3), 0px 1px 3px 1px rgba(60, 64, 67, 0.15);\n",
              "      fill: #174EA6;\n",
              "    }\n",
              "\n",
              "    [theme=dark] .colab-df-convert {\n",
              "      background-color: #3B4455;\n",
              "      fill: #D2E3FC;\n",
              "    }\n",
              "\n",
              "    [theme=dark] .colab-df-convert:hover {\n",
              "      background-color: #434B5C;\n",
              "      box-shadow: 0px 1px 3px 1px rgba(0, 0, 0, 0.15);\n",
              "      filter: drop-shadow(0px 1px 2px rgba(0, 0, 0, 0.3));\n",
              "      fill: #FFFFFF;\n",
              "    }\n",
              "  </style>\n",
              "\n",
              "      <script>\n",
              "        const buttonEl =\n",
              "          document.querySelector('#df-f8b771f8-1f39-4210-a559-17fec97e4f75 button.colab-df-convert');\n",
              "        buttonEl.style.display =\n",
              "          google.colab.kernel.accessAllowed ? 'block' : 'none';\n",
              "\n",
              "        async function convertToInteractive(key) {\n",
              "          const element = document.querySelector('#df-f8b771f8-1f39-4210-a559-17fec97e4f75');\n",
              "          const dataTable =\n",
              "            await google.colab.kernel.invokeFunction('convertToInteractive',\n",
              "                                                     [key], {});\n",
              "          if (!dataTable) return;\n",
              "\n",
              "          const docLinkHtml = 'Like what you see? Visit the ' +\n",
              "            '<a target=\"_blank\" href=https://colab.research.google.com/notebooks/data_table.ipynb>data table notebook</a>'\n",
              "            + ' to learn more about interactive tables.';\n",
              "          element.innerHTML = '';\n",
              "          dataTable['output_type'] = 'display_data';\n",
              "          await google.colab.output.renderOutput(dataTable, element);\n",
              "          const docLink = document.createElement('div');\n",
              "          docLink.innerHTML = docLinkHtml;\n",
              "          element.appendChild(docLink);\n",
              "        }\n",
              "      </script>\n",
              "    </div>\n",
              "  </div>\n",
              "  "
            ],
            "text/plain": [
              "                             Frequence_家長教育程度  Percentage_家長教育程度\n",
              "parental level of education                                     \n",
              "associate's degree                        222              0.222\n",
              "bachelor's degree                         118              0.118\n",
              "high school                               196              0.196\n",
              "master's degree                            59              0.059\n",
              "some college                              226              0.226\n",
              "some high school                          179              0.179"
            ]
          },
          "metadata": {},
          "execution_count": 7
        }
      ]
    },
    {
      "cell_type": "markdown",
      "metadata": {
        "id": "PvncwebUfUA0"
      },
      "source": [
        "在家長教育程度資料當中\n",
        "\n",
        "副學士學位222人\n",
        "\n",
        "學士學位118人\n",
        "\n",
        "高中196人\n",
        "\n",
        "碩士學位59人\n",
        "\n",
        "五專226人\n",
        "\n",
        "高職179人\n",
        "\n",
        "比例為0.222:0.118:0.196:0.059:0.226:0.179"
      ]
    },
    {
      "cell_type": "code",
      "metadata": {
        "colab": {
          "base_uri": "https://localhost:8080/",
          "height": 143
        },
        "id": "JLjeYbnsggqh",
        "outputId": "f3d59917-6f2f-4285-bd69-7b5730d954d7"
      },
      "source": [
        "f=data.groupby('lunch')\n",
        "frequence=f.size()\n",
        "flist=pd.DataFrame(frequence,columns=['Frequence_午餐費用'])\n",
        "percentage=f.size()/len(data)\n",
        "plist=pd.DataFrame(percentage,columns=[\"Percentage_午餐費用\"])\n",
        "flist.merge(plist,on = 'lunch')"
      ],
      "execution_count": null,
      "outputs": [
        {
          "output_type": "execute_result",
          "data": {
            "text/html": [
              "\n",
              "  <div id=\"df-438fd946-6858-44c5-b93e-8dfad3aae79f\">\n",
              "    <div class=\"colab-df-container\">\n",
              "      <div>\n",
              "<style scoped>\n",
              "    .dataframe tbody tr th:only-of-type {\n",
              "        vertical-align: middle;\n",
              "    }\n",
              "\n",
              "    .dataframe tbody tr th {\n",
              "        vertical-align: top;\n",
              "    }\n",
              "\n",
              "    .dataframe thead th {\n",
              "        text-align: right;\n",
              "    }\n",
              "</style>\n",
              "<table border=\"1\" class=\"dataframe\">\n",
              "  <thead>\n",
              "    <tr style=\"text-align: right;\">\n",
              "      <th></th>\n",
              "      <th>Frequence_午餐費用</th>\n",
              "      <th>Percentage_午餐費用</th>\n",
              "    </tr>\n",
              "    <tr>\n",
              "      <th>lunch</th>\n",
              "      <th></th>\n",
              "      <th></th>\n",
              "    </tr>\n",
              "  </thead>\n",
              "  <tbody>\n",
              "    <tr>\n",
              "      <th>free/reduced</th>\n",
              "      <td>355</td>\n",
              "      <td>0.355</td>\n",
              "    </tr>\n",
              "    <tr>\n",
              "      <th>standard</th>\n",
              "      <td>645</td>\n",
              "      <td>0.645</td>\n",
              "    </tr>\n",
              "  </tbody>\n",
              "</table>\n",
              "</div>\n",
              "      <button class=\"colab-df-convert\" onclick=\"convertToInteractive('df-438fd946-6858-44c5-b93e-8dfad3aae79f')\"\n",
              "              title=\"Convert this dataframe to an interactive table.\"\n",
              "              style=\"display:none;\">\n",
              "        \n",
              "  <svg xmlns=\"http://www.w3.org/2000/svg\" height=\"24px\"viewBox=\"0 0 24 24\"\n",
              "       width=\"24px\">\n",
              "    <path d=\"M0 0h24v24H0V0z\" fill=\"none\"/>\n",
              "    <path d=\"M18.56 5.44l.94 2.06.94-2.06 2.06-.94-2.06-.94-.94-2.06-.94 2.06-2.06.94zm-11 1L8.5 8.5l.94-2.06 2.06-.94-2.06-.94L8.5 2.5l-.94 2.06-2.06.94zm10 10l.94 2.06.94-2.06 2.06-.94-2.06-.94-.94-2.06-.94 2.06-2.06.94z\"/><path d=\"M17.41 7.96l-1.37-1.37c-.4-.4-.92-.59-1.43-.59-.52 0-1.04.2-1.43.59L10.3 9.45l-7.72 7.72c-.78.78-.78 2.05 0 2.83L4 21.41c.39.39.9.59 1.41.59.51 0 1.02-.2 1.41-.59l7.78-7.78 2.81-2.81c.8-.78.8-2.07 0-2.86zM5.41 20L4 18.59l7.72-7.72 1.47 1.35L5.41 20z\"/>\n",
              "  </svg>\n",
              "      </button>\n",
              "      \n",
              "  <style>\n",
              "    .colab-df-container {\n",
              "      display:flex;\n",
              "      flex-wrap:wrap;\n",
              "      gap: 12px;\n",
              "    }\n",
              "\n",
              "    .colab-df-convert {\n",
              "      background-color: #E8F0FE;\n",
              "      border: none;\n",
              "      border-radius: 50%;\n",
              "      cursor: pointer;\n",
              "      display: none;\n",
              "      fill: #1967D2;\n",
              "      height: 32px;\n",
              "      padding: 0 0 0 0;\n",
              "      width: 32px;\n",
              "    }\n",
              "\n",
              "    .colab-df-convert:hover {\n",
              "      background-color: #E2EBFA;\n",
              "      box-shadow: 0px 1px 2px rgba(60, 64, 67, 0.3), 0px 1px 3px 1px rgba(60, 64, 67, 0.15);\n",
              "      fill: #174EA6;\n",
              "    }\n",
              "\n",
              "    [theme=dark] .colab-df-convert {\n",
              "      background-color: #3B4455;\n",
              "      fill: #D2E3FC;\n",
              "    }\n",
              "\n",
              "    [theme=dark] .colab-df-convert:hover {\n",
              "      background-color: #434B5C;\n",
              "      box-shadow: 0px 1px 3px 1px rgba(0, 0, 0, 0.15);\n",
              "      filter: drop-shadow(0px 1px 2px rgba(0, 0, 0, 0.3));\n",
              "      fill: #FFFFFF;\n",
              "    }\n",
              "  </style>\n",
              "\n",
              "      <script>\n",
              "        const buttonEl =\n",
              "          document.querySelector('#df-438fd946-6858-44c5-b93e-8dfad3aae79f button.colab-df-convert');\n",
              "        buttonEl.style.display =\n",
              "          google.colab.kernel.accessAllowed ? 'block' : 'none';\n",
              "\n",
              "        async function convertToInteractive(key) {\n",
              "          const element = document.querySelector('#df-438fd946-6858-44c5-b93e-8dfad3aae79f');\n",
              "          const dataTable =\n",
              "            await google.colab.kernel.invokeFunction('convertToInteractive',\n",
              "                                                     [key], {});\n",
              "          if (!dataTable) return;\n",
              "\n",
              "          const docLinkHtml = 'Like what you see? Visit the ' +\n",
              "            '<a target=\"_blank\" href=https://colab.research.google.com/notebooks/data_table.ipynb>data table notebook</a>'\n",
              "            + ' to learn more about interactive tables.';\n",
              "          element.innerHTML = '';\n",
              "          dataTable['output_type'] = 'display_data';\n",
              "          await google.colab.output.renderOutput(dataTable, element);\n",
              "          const docLink = document.createElement('div');\n",
              "          docLink.innerHTML = docLinkHtml;\n",
              "          element.appendChild(docLink);\n",
              "        }\n",
              "      </script>\n",
              "    </div>\n",
              "  </div>\n",
              "  "
            ],
            "text/plain": [
              "              Frequence_午餐費用  Percentage_午餐費用\n",
              "lunch                                        \n",
              "free/reduced             355            0.355\n",
              "standard                 645            0.645"
            ]
          },
          "metadata": {},
          "execution_count": 9
        }
      ]
    },
    {
      "cell_type": "markdown",
      "metadata": {
        "id": "Jb_94QVyg-D9"
      },
      "source": [
        "在午餐費用資料當中\n",
        "\n",
        "免費/較便宜355人\n",
        "\n",
        "標準645人\n",
        "\n",
        "比例為0.355:0.645"
      ]
    },
    {
      "cell_type": "code",
      "metadata": {
        "colab": {
          "base_uri": "https://localhost:8080/",
          "height": 143
        },
        "id": "4lFf06wrgnK5",
        "outputId": "a6dbe726-a1be-4fff-fb6c-562deb0578b1"
      },
      "source": [
        "f=data.groupby('test preparation course')\n",
        "frequence=f.size()\n",
        "flist=pd.DataFrame(frequence,columns=['Frequence_考試準備課程'])\n",
        "percentage=f.size()/len(data)\n",
        "plist=pd.DataFrame(percentage,columns=[\"Percentage_考試準備課程\"])\n",
        "flist.merge(plist,on = 'test preparation course')"
      ],
      "execution_count": null,
      "outputs": [
        {
          "output_type": "execute_result",
          "data": {
            "text/html": [
              "\n",
              "  <div id=\"df-2f0a7177-4512-4bba-bbc8-683719129b60\">\n",
              "    <div class=\"colab-df-container\">\n",
              "      <div>\n",
              "<style scoped>\n",
              "    .dataframe tbody tr th:only-of-type {\n",
              "        vertical-align: middle;\n",
              "    }\n",
              "\n",
              "    .dataframe tbody tr th {\n",
              "        vertical-align: top;\n",
              "    }\n",
              "\n",
              "    .dataframe thead th {\n",
              "        text-align: right;\n",
              "    }\n",
              "</style>\n",
              "<table border=\"1\" class=\"dataframe\">\n",
              "  <thead>\n",
              "    <tr style=\"text-align: right;\">\n",
              "      <th></th>\n",
              "      <th>Frequence_考試準備課程</th>\n",
              "      <th>Percentage_考試準備課程</th>\n",
              "    </tr>\n",
              "    <tr>\n",
              "      <th>test preparation course</th>\n",
              "      <th></th>\n",
              "      <th></th>\n",
              "    </tr>\n",
              "  </thead>\n",
              "  <tbody>\n",
              "    <tr>\n",
              "      <th>completed</th>\n",
              "      <td>358</td>\n",
              "      <td>0.358</td>\n",
              "    </tr>\n",
              "    <tr>\n",
              "      <th>none</th>\n",
              "      <td>642</td>\n",
              "      <td>0.642</td>\n",
              "    </tr>\n",
              "  </tbody>\n",
              "</table>\n",
              "</div>\n",
              "      <button class=\"colab-df-convert\" onclick=\"convertToInteractive('df-2f0a7177-4512-4bba-bbc8-683719129b60')\"\n",
              "              title=\"Convert this dataframe to an interactive table.\"\n",
              "              style=\"display:none;\">\n",
              "        \n",
              "  <svg xmlns=\"http://www.w3.org/2000/svg\" height=\"24px\"viewBox=\"0 0 24 24\"\n",
              "       width=\"24px\">\n",
              "    <path d=\"M0 0h24v24H0V0z\" fill=\"none\"/>\n",
              "    <path d=\"M18.56 5.44l.94 2.06.94-2.06 2.06-.94-2.06-.94-.94-2.06-.94 2.06-2.06.94zm-11 1L8.5 8.5l.94-2.06 2.06-.94-2.06-.94L8.5 2.5l-.94 2.06-2.06.94zm10 10l.94 2.06.94-2.06 2.06-.94-2.06-.94-.94-2.06-.94 2.06-2.06.94z\"/><path d=\"M17.41 7.96l-1.37-1.37c-.4-.4-.92-.59-1.43-.59-.52 0-1.04.2-1.43.59L10.3 9.45l-7.72 7.72c-.78.78-.78 2.05 0 2.83L4 21.41c.39.39.9.59 1.41.59.51 0 1.02-.2 1.41-.59l7.78-7.78 2.81-2.81c.8-.78.8-2.07 0-2.86zM5.41 20L4 18.59l7.72-7.72 1.47 1.35L5.41 20z\"/>\n",
              "  </svg>\n",
              "      </button>\n",
              "      \n",
              "  <style>\n",
              "    .colab-df-container {\n",
              "      display:flex;\n",
              "      flex-wrap:wrap;\n",
              "      gap: 12px;\n",
              "    }\n",
              "\n",
              "    .colab-df-convert {\n",
              "      background-color: #E8F0FE;\n",
              "      border: none;\n",
              "      border-radius: 50%;\n",
              "      cursor: pointer;\n",
              "      display: none;\n",
              "      fill: #1967D2;\n",
              "      height: 32px;\n",
              "      padding: 0 0 0 0;\n",
              "      width: 32px;\n",
              "    }\n",
              "\n",
              "    .colab-df-convert:hover {\n",
              "      background-color: #E2EBFA;\n",
              "      box-shadow: 0px 1px 2px rgba(60, 64, 67, 0.3), 0px 1px 3px 1px rgba(60, 64, 67, 0.15);\n",
              "      fill: #174EA6;\n",
              "    }\n",
              "\n",
              "    [theme=dark] .colab-df-convert {\n",
              "      background-color: #3B4455;\n",
              "      fill: #D2E3FC;\n",
              "    }\n",
              "\n",
              "    [theme=dark] .colab-df-convert:hover {\n",
              "      background-color: #434B5C;\n",
              "      box-shadow: 0px 1px 3px 1px rgba(0, 0, 0, 0.15);\n",
              "      filter: drop-shadow(0px 1px 2px rgba(0, 0, 0, 0.3));\n",
              "      fill: #FFFFFF;\n",
              "    }\n",
              "  </style>\n",
              "\n",
              "      <script>\n",
              "        const buttonEl =\n",
              "          document.querySelector('#df-2f0a7177-4512-4bba-bbc8-683719129b60 button.colab-df-convert');\n",
              "        buttonEl.style.display =\n",
              "          google.colab.kernel.accessAllowed ? 'block' : 'none';\n",
              "\n",
              "        async function convertToInteractive(key) {\n",
              "          const element = document.querySelector('#df-2f0a7177-4512-4bba-bbc8-683719129b60');\n",
              "          const dataTable =\n",
              "            await google.colab.kernel.invokeFunction('convertToInteractive',\n",
              "                                                     [key], {});\n",
              "          if (!dataTable) return;\n",
              "\n",
              "          const docLinkHtml = 'Like what you see? Visit the ' +\n",
              "            '<a target=\"_blank\" href=https://colab.research.google.com/notebooks/data_table.ipynb>data table notebook</a>'\n",
              "            + ' to learn more about interactive tables.';\n",
              "          element.innerHTML = '';\n",
              "          dataTable['output_type'] = 'display_data';\n",
              "          await google.colab.output.renderOutput(dataTable, element);\n",
              "          const docLink = document.createElement('div');\n",
              "          docLink.innerHTML = docLinkHtml;\n",
              "          element.appendChild(docLink);\n",
              "        }\n",
              "      </script>\n",
              "    </div>\n",
              "  </div>\n",
              "  "
            ],
            "text/plain": [
              "                         Frequence_考試準備課程  Percentage_考試準備課程\n",
              "test preparation course                                     \n",
              "completed                             358              0.358\n",
              "none                                  642              0.642"
            ]
          },
          "metadata": {},
          "execution_count": 10
        }
      ]
    },
    {
      "cell_type": "markdown",
      "metadata": {
        "id": "a-tM0CU3hGMT"
      },
      "source": [
        "在考試準備課程資料當中\n",
        "\n",
        "完成358人\n",
        "\n",
        "沒完成642人\n",
        "\n",
        "比例為0.358:0.642"
      ]
    },
    {
      "cell_type": "code",
      "metadata": {
        "colab": {
          "base_uri": "https://localhost:8080/",
          "height": 300
        },
        "id": "dNh76kDEl-lB",
        "outputId": "a1cf9e00-a2c4-440a-aa25-33bebe5dcf48"
      },
      "source": [
        "#描述性分析\n",
        "data.describe()"
      ],
      "execution_count": null,
      "outputs": [
        {
          "output_type": "execute_result",
          "data": {
            "text/html": [
              "<div>\n",
              "<style scoped>\n",
              "    .dataframe tbody tr th:only-of-type {\n",
              "        vertical-align: middle;\n",
              "    }\n",
              "\n",
              "    .dataframe tbody tr th {\n",
              "        vertical-align: top;\n",
              "    }\n",
              "\n",
              "    .dataframe thead th {\n",
              "        text-align: right;\n",
              "    }\n",
              "</style>\n",
              "<table border=\"1\" class=\"dataframe\">\n",
              "  <thead>\n",
              "    <tr style=\"text-align: right;\">\n",
              "      <th></th>\n",
              "      <th>math score</th>\n",
              "      <th>reading score</th>\n",
              "      <th>writing score</th>\n",
              "    </tr>\n",
              "  </thead>\n",
              "  <tbody>\n",
              "    <tr>\n",
              "      <th>count</th>\n",
              "      <td>1000.00000</td>\n",
              "      <td>1000.000000</td>\n",
              "      <td>1000.000000</td>\n",
              "    </tr>\n",
              "    <tr>\n",
              "      <th>mean</th>\n",
              "      <td>66.08900</td>\n",
              "      <td>69.169000</td>\n",
              "      <td>68.054000</td>\n",
              "    </tr>\n",
              "    <tr>\n",
              "      <th>std</th>\n",
              "      <td>15.16308</td>\n",
              "      <td>14.600192</td>\n",
              "      <td>15.195657</td>\n",
              "    </tr>\n",
              "    <tr>\n",
              "      <th>min</th>\n",
              "      <td>0.00000</td>\n",
              "      <td>17.000000</td>\n",
              "      <td>10.000000</td>\n",
              "    </tr>\n",
              "    <tr>\n",
              "      <th>25%</th>\n",
              "      <td>57.00000</td>\n",
              "      <td>59.000000</td>\n",
              "      <td>57.750000</td>\n",
              "    </tr>\n",
              "    <tr>\n",
              "      <th>50%</th>\n",
              "      <td>66.00000</td>\n",
              "      <td>70.000000</td>\n",
              "      <td>69.000000</td>\n",
              "    </tr>\n",
              "    <tr>\n",
              "      <th>75%</th>\n",
              "      <td>77.00000</td>\n",
              "      <td>79.000000</td>\n",
              "      <td>79.000000</td>\n",
              "    </tr>\n",
              "    <tr>\n",
              "      <th>max</th>\n",
              "      <td>100.00000</td>\n",
              "      <td>100.000000</td>\n",
              "      <td>100.000000</td>\n",
              "    </tr>\n",
              "  </tbody>\n",
              "</table>\n",
              "</div>"
            ],
            "text/plain": [
              "       math score  reading score  writing score\n",
              "count  1000.00000    1000.000000    1000.000000\n",
              "mean     66.08900      69.169000      68.054000\n",
              "std      15.16308      14.600192      15.195657\n",
              "min       0.00000      17.000000      10.000000\n",
              "25%      57.00000      59.000000      57.750000\n",
              "50%      66.00000      70.000000      69.000000\n",
              "75%      77.00000      79.000000      79.000000\n",
              "max     100.00000     100.000000     100.000000"
            ]
          },
          "metadata": {},
          "execution_count": 9
        }
      ]
    },
    {
      "cell_type": "markdown",
      "metadata": {
        "id": "KlcwfRCxh2OJ"
      },
      "source": [
        "三科都有1000筆資料，最大值都為100\n",
        "\n",
        "數學平均66.09，閱讀平均69.17，寫作平均68.05\n",
        "\n",
        "數學標準差15.16，閱讀標準差14.60，寫作標準差15.20\n",
        "\n",
        "數學最小值0，閱讀最小值17，寫作最小值10\n",
        "\n",
        "數學25百分位57，閱讀25百分位59，寫作25百分位57.75\n",
        "\n",
        "數學50百分位66，閱讀50百分位70，寫作50百分位69\n",
        "\n",
        "數學75百分位77，閱讀75百分位79，寫作75百分位79"
      ]
    },
    {
      "cell_type": "markdown",
      "metadata": {
        "id": "v1OSIH2Hm6--"
      },
      "source": [
        "#第二題"
      ]
    },
    {
      "cell_type": "markdown",
      "metadata": {
        "id": "BMND_8L_X1bt"
      },
      "source": [
        "不同性別的成績差異"
      ]
    },
    {
      "cell_type": "code",
      "metadata": {
        "colab": {
          "base_uri": "https://localhost:8080/"
        },
        "id": "vZuu0RfiplxD",
        "outputId": "727715c1-8cdb-4615-a636-9fcd22a08dd1"
      },
      "source": [
        "from scipy import stats\n",
        "(t,p)=stats.ttest_ind(data['math score'][data['gender']=='female'],data['math score'][data['gender']=='male'])\n",
        "print('數學 t value= %.2f,  p_value= %.2f'%(t,p))\n",
        "(t,p)=stats.ttest_ind(data['reading score'][data['gender']=='female'],data['reading score'][data['gender']=='male'])\n",
        "print('閱讀 t value= %.2f,  p_value= %.2f'%(t,p))\n",
        "(t,p)=stats.ttest_ind(data['writing score'][data['gender']=='female'],data['writing score'][data['gender']=='male'])\n",
        "print('寫作 t value= %.2f,  p_value= %.2f'%(t,p))"
      ],
      "execution_count": null,
      "outputs": [
        {
          "output_type": "stream",
          "name": "stdout",
          "text": [
            "數學 t value= -5.38,  p_value= 0.00\n",
            "閱讀 t value= 7.96,  p_value= 0.00\n",
            "寫作 t value= 9.98,  p_value= 0.00\n"
          ]
        }
      ]
    },
    {
      "cell_type": "markdown",
      "metadata": {
        "id": "2lYoxbvBqPRn"
      },
      "source": [
        "因為p值小於0.05，所以不同性別的數學/閱讀/寫作成績有顯著差異"
      ]
    },
    {
      "cell_type": "code",
      "metadata": {
        "colab": {
          "base_uri": "https://localhost:8080/",
          "height": 143
        },
        "id": "7A-jor8Qr_9i",
        "outputId": "84622b4a-4aa1-4fbb-c4bd-b550ad0af856"
      },
      "source": [
        "a=data.groupby('gender').mean()\n",
        "b=a[[\"math score\"]]\n",
        "b"
      ],
      "execution_count": null,
      "outputs": [
        {
          "output_type": "execute_result",
          "data": {
            "text/html": [
              "<div>\n",
              "<style scoped>\n",
              "    .dataframe tbody tr th:only-of-type {\n",
              "        vertical-align: middle;\n",
              "    }\n",
              "\n",
              "    .dataframe tbody tr th {\n",
              "        vertical-align: top;\n",
              "    }\n",
              "\n",
              "    .dataframe thead th {\n",
              "        text-align: right;\n",
              "    }\n",
              "</style>\n",
              "<table border=\"1\" class=\"dataframe\">\n",
              "  <thead>\n",
              "    <tr style=\"text-align: right;\">\n",
              "      <th></th>\n",
              "      <th>math score</th>\n",
              "    </tr>\n",
              "    <tr>\n",
              "      <th>gender</th>\n",
              "      <th></th>\n",
              "    </tr>\n",
              "  </thead>\n",
              "  <tbody>\n",
              "    <tr>\n",
              "      <th>female</th>\n",
              "      <td>63.633205</td>\n",
              "    </tr>\n",
              "    <tr>\n",
              "      <th>male</th>\n",
              "      <td>68.728216</td>\n",
              "    </tr>\n",
              "  </tbody>\n",
              "</table>\n",
              "</div>"
            ],
            "text/plain": [
              "        math score\n",
              "gender            \n",
              "female   63.633205\n",
              "male     68.728216"
            ]
          },
          "metadata": {},
          "execution_count": 12
        }
      ]
    },
    {
      "cell_type": "markdown",
      "metadata": {
        "id": "Yl1QsUEZsXuq"
      },
      "source": [
        "女生數學平均63.633\n",
        "\n",
        "男生數學平均68.728"
      ]
    },
    {
      "cell_type": "code",
      "metadata": {
        "colab": {
          "base_uri": "https://localhost:8080/",
          "height": 143
        },
        "id": "lj0NbMJRsNMJ",
        "outputId": "05355206-e981-4777-96fa-5fbe1ffa761e"
      },
      "source": [
        "a=data.groupby('gender').mean()\n",
        "b=a[[\"reading score\"]]\n",
        "b"
      ],
      "execution_count": null,
      "outputs": [
        {
          "output_type": "execute_result",
          "data": {
            "text/html": [
              "<div>\n",
              "<style scoped>\n",
              "    .dataframe tbody tr th:only-of-type {\n",
              "        vertical-align: middle;\n",
              "    }\n",
              "\n",
              "    .dataframe tbody tr th {\n",
              "        vertical-align: top;\n",
              "    }\n",
              "\n",
              "    .dataframe thead th {\n",
              "        text-align: right;\n",
              "    }\n",
              "</style>\n",
              "<table border=\"1\" class=\"dataframe\">\n",
              "  <thead>\n",
              "    <tr style=\"text-align: right;\">\n",
              "      <th></th>\n",
              "      <th>reading score</th>\n",
              "    </tr>\n",
              "    <tr>\n",
              "      <th>gender</th>\n",
              "      <th></th>\n",
              "    </tr>\n",
              "  </thead>\n",
              "  <tbody>\n",
              "    <tr>\n",
              "      <th>female</th>\n",
              "      <td>72.608108</td>\n",
              "    </tr>\n",
              "    <tr>\n",
              "      <th>male</th>\n",
              "      <td>65.473029</td>\n",
              "    </tr>\n",
              "  </tbody>\n",
              "</table>\n",
              "</div>"
            ],
            "text/plain": [
              "        reading score\n",
              "gender               \n",
              "female      72.608108\n",
              "male        65.473029"
            ]
          },
          "metadata": {},
          "execution_count": 13
        }
      ]
    },
    {
      "cell_type": "markdown",
      "metadata": {
        "id": "JwCnzZ91shDQ"
      },
      "source": [
        "女生閱讀平均72.608\n",
        "\n",
        "男生閱讀平均65.473"
      ]
    },
    {
      "cell_type": "code",
      "metadata": {
        "colab": {
          "base_uri": "https://localhost:8080/",
          "height": 143
        },
        "id": "08lIJ9XNsQMz",
        "outputId": "34e7a504-db1d-4d36-fd72-c494b99d553e"
      },
      "source": [
        "a=data.groupby('gender').mean()\n",
        "b=a[[\"writing score\"]]\n",
        "b"
      ],
      "execution_count": null,
      "outputs": [
        {
          "output_type": "execute_result",
          "data": {
            "text/html": [
              "<div>\n",
              "<style scoped>\n",
              "    .dataframe tbody tr th:only-of-type {\n",
              "        vertical-align: middle;\n",
              "    }\n",
              "\n",
              "    .dataframe tbody tr th {\n",
              "        vertical-align: top;\n",
              "    }\n",
              "\n",
              "    .dataframe thead th {\n",
              "        text-align: right;\n",
              "    }\n",
              "</style>\n",
              "<table border=\"1\" class=\"dataframe\">\n",
              "  <thead>\n",
              "    <tr style=\"text-align: right;\">\n",
              "      <th></th>\n",
              "      <th>writing score</th>\n",
              "    </tr>\n",
              "    <tr>\n",
              "      <th>gender</th>\n",
              "      <th></th>\n",
              "    </tr>\n",
              "  </thead>\n",
              "  <tbody>\n",
              "    <tr>\n",
              "      <th>female</th>\n",
              "      <td>72.467181</td>\n",
              "    </tr>\n",
              "    <tr>\n",
              "      <th>male</th>\n",
              "      <td>63.311203</td>\n",
              "    </tr>\n",
              "  </tbody>\n",
              "</table>\n",
              "</div>"
            ],
            "text/plain": [
              "        writing score\n",
              "gender               \n",
              "female      72.467181\n",
              "male        63.311203"
            ]
          },
          "metadata": {},
          "execution_count": 14
        }
      ]
    },
    {
      "cell_type": "markdown",
      "metadata": {
        "id": "Pf0hCHTusp4I"
      },
      "source": [
        "女生寫作平均72.467\n",
        "\n",
        "男生寫作平均63.311"
      ]
    },
    {
      "cell_type": "markdown",
      "metadata": {
        "id": "ZHRTAU8zYNLD"
      },
      "source": [
        "不同組別的成績差異"
      ]
    },
    {
      "cell_type": "code",
      "metadata": {
        "colab": {
          "base_uri": "https://localhost:8080/"
        },
        "id": "VLNixd3krC5O",
        "outputId": "8dafcdbe-debf-4afe-da54-02b688456854"
      },
      "source": [
        "from scipy import stats\n",
        "(f,pv)=stats.f_oneway(data['math score'][data['race/ethnicity']=='group A'],\n",
        "                          data['math score'][data['race/ethnicity']=='group B'],\n",
        "                          data['math score'][data['race/ethnicity']=='group C'],\n",
        "                          data['math score'][data['race/ethnicity']=='group D'],\n",
        "                          data['math score'][data['race/ethnicity']=='group E'])\n",
        "print('數學 onewayANOVA=%.2f, p-value=%.2f'%(f,pv))\n",
        "(f,pv)=stats.f_oneway(data['reading score'][data['race/ethnicity']=='group A'],\n",
        "                          data['reading score'][data['race/ethnicity']=='group B'],\n",
        "                          data['reading score'][data['race/ethnicity']=='group C'],\n",
        "                          data['reading score'][data['race/ethnicity']=='group D'],\n",
        "                          data['reading score'][data['race/ethnicity']=='group E'])\n",
        "print('閱讀 onewayANOVA=%.2f, p-value=%.2f'%(f,pv))\n",
        "(f,pv)=stats.f_oneway(data['writing score'][data['race/ethnicity']=='group A'],\n",
        "                          data['writing score'][data['race/ethnicity']=='group B'],\n",
        "                          data['writing score'][data['race/ethnicity']=='group C'],\n",
        "                          data['writing score'][data['race/ethnicity']=='group D'],\n",
        "                          data['writing score'][data['race/ethnicity']=='group E'])\n",
        "print('寫作 onewayANOVA=%.2f, p-value=%.2f'%(f,pv))"
      ],
      "execution_count": null,
      "outputs": [
        {
          "output_type": "stream",
          "name": "stdout",
          "text": [
            "數學 onewayANOVA=14.59, p-value=0.00\n",
            "閱讀 onewayANOVA=5.62, p-value=0.00\n",
            "寫作 onewayANOVA=7.16, p-value=0.00\n"
          ]
        }
      ]
    },
    {
      "cell_type": "markdown",
      "metadata": {
        "id": "OkVaNcLacomH"
      },
      "source": [
        "因為p值小於0.05，所以不同組別的數學/閱讀/寫作成績有顯著差異"
      ]
    },
    {
      "cell_type": "code",
      "metadata": {
        "colab": {
          "base_uri": "https://localhost:8080/",
          "height": 237
        },
        "id": "tznoUmS4tm-A",
        "outputId": "dde30c93-142d-4b08-9e99-e95082e8459f"
      },
      "source": [
        "a=data.groupby('race/ethnicity').mean()\n",
        "b=a[[\"math score\"]]\n",
        "b"
      ],
      "execution_count": null,
      "outputs": [
        {
          "output_type": "execute_result",
          "data": {
            "text/html": [
              "<div>\n",
              "<style scoped>\n",
              "    .dataframe tbody tr th:only-of-type {\n",
              "        vertical-align: middle;\n",
              "    }\n",
              "\n",
              "    .dataframe tbody tr th {\n",
              "        vertical-align: top;\n",
              "    }\n",
              "\n",
              "    .dataframe thead th {\n",
              "        text-align: right;\n",
              "    }\n",
              "</style>\n",
              "<table border=\"1\" class=\"dataframe\">\n",
              "  <thead>\n",
              "    <tr style=\"text-align: right;\">\n",
              "      <th></th>\n",
              "      <th>math score</th>\n",
              "    </tr>\n",
              "    <tr>\n",
              "      <th>race/ethnicity</th>\n",
              "      <th></th>\n",
              "    </tr>\n",
              "  </thead>\n",
              "  <tbody>\n",
              "    <tr>\n",
              "      <th>group A</th>\n",
              "      <td>61.629213</td>\n",
              "    </tr>\n",
              "    <tr>\n",
              "      <th>group B</th>\n",
              "      <td>63.452632</td>\n",
              "    </tr>\n",
              "    <tr>\n",
              "      <th>group C</th>\n",
              "      <td>64.463950</td>\n",
              "    </tr>\n",
              "    <tr>\n",
              "      <th>group D</th>\n",
              "      <td>67.362595</td>\n",
              "    </tr>\n",
              "    <tr>\n",
              "      <th>group E</th>\n",
              "      <td>73.821429</td>\n",
              "    </tr>\n",
              "  </tbody>\n",
              "</table>\n",
              "</div>"
            ],
            "text/plain": [
              "                math score\n",
              "race/ethnicity            \n",
              "group A          61.629213\n",
              "group B          63.452632\n",
              "group C          64.463950\n",
              "group D          67.362595\n",
              "group E          73.821429"
            ]
          },
          "metadata": {},
          "execution_count": 16
        }
      ]
    },
    {
      "cell_type": "markdown",
      "metadata": {
        "id": "krMCdoRodOJo"
      },
      "source": [
        "A組數學平均61.629\n",
        "\n",
        "B組數學平均63.453\n",
        "\n",
        "C組數學平均64.464\n",
        "\n",
        "D組數學平均67.362\n",
        "\n",
        "E組數學平均73.821"
      ]
    },
    {
      "cell_type": "code",
      "metadata": {
        "id": "24s1Q6ZavQ2q",
        "colab": {
          "base_uri": "https://localhost:8080/",
          "height": 237
        },
        "outputId": "a83ee8de-4cfd-471d-a733-95b645960538"
      },
      "source": [
        "a=data.groupby('race/ethnicity').mean()\n",
        "b=a[[\"reading score\"]]\n",
        "b"
      ],
      "execution_count": null,
      "outputs": [
        {
          "output_type": "execute_result",
          "data": {
            "text/html": [
              "<div>\n",
              "<style scoped>\n",
              "    .dataframe tbody tr th:only-of-type {\n",
              "        vertical-align: middle;\n",
              "    }\n",
              "\n",
              "    .dataframe tbody tr th {\n",
              "        vertical-align: top;\n",
              "    }\n",
              "\n",
              "    .dataframe thead th {\n",
              "        text-align: right;\n",
              "    }\n",
              "</style>\n",
              "<table border=\"1\" class=\"dataframe\">\n",
              "  <thead>\n",
              "    <tr style=\"text-align: right;\">\n",
              "      <th></th>\n",
              "      <th>reading score</th>\n",
              "    </tr>\n",
              "    <tr>\n",
              "      <th>race/ethnicity</th>\n",
              "      <th></th>\n",
              "    </tr>\n",
              "  </thead>\n",
              "  <tbody>\n",
              "    <tr>\n",
              "      <th>group A</th>\n",
              "      <td>64.674157</td>\n",
              "    </tr>\n",
              "    <tr>\n",
              "      <th>group B</th>\n",
              "      <td>67.352632</td>\n",
              "    </tr>\n",
              "    <tr>\n",
              "      <th>group C</th>\n",
              "      <td>69.103448</td>\n",
              "    </tr>\n",
              "    <tr>\n",
              "      <th>group D</th>\n",
              "      <td>70.030534</td>\n",
              "    </tr>\n",
              "    <tr>\n",
              "      <th>group E</th>\n",
              "      <td>73.028571</td>\n",
              "    </tr>\n",
              "  </tbody>\n",
              "</table>\n",
              "</div>"
            ],
            "text/plain": [
              "                reading score\n",
              "race/ethnicity               \n",
              "group A             64.674157\n",
              "group B             67.352632\n",
              "group C             69.103448\n",
              "group D             70.030534\n",
              "group E             73.028571"
            ]
          },
          "metadata": {},
          "execution_count": 17
        }
      ]
    },
    {
      "cell_type": "markdown",
      "metadata": {
        "id": "EB3oixRndvc5"
      },
      "source": [
        "A組閱讀平均64.674\n",
        "\n",
        "B組閱讀平均67.352\n",
        "\n",
        "C組閱讀平均69.103\n",
        "\n",
        "D組閱讀平均70.030\n",
        "\n",
        "E組閱讀平均73.029"
      ]
    },
    {
      "cell_type": "code",
      "metadata": {
        "id": "IFZjJQRgvRSA",
        "colab": {
          "base_uri": "https://localhost:8080/",
          "height": 237
        },
        "outputId": "f554e7b3-6ff8-43d2-b432-2834e0ab4f55"
      },
      "source": [
        "a=data.groupby('race/ethnicity').mean()\n",
        "b=a[[\"writing score\"]]\n",
        "b"
      ],
      "execution_count": null,
      "outputs": [
        {
          "output_type": "execute_result",
          "data": {
            "text/html": [
              "<div>\n",
              "<style scoped>\n",
              "    .dataframe tbody tr th:only-of-type {\n",
              "        vertical-align: middle;\n",
              "    }\n",
              "\n",
              "    .dataframe tbody tr th {\n",
              "        vertical-align: top;\n",
              "    }\n",
              "\n",
              "    .dataframe thead th {\n",
              "        text-align: right;\n",
              "    }\n",
              "</style>\n",
              "<table border=\"1\" class=\"dataframe\">\n",
              "  <thead>\n",
              "    <tr style=\"text-align: right;\">\n",
              "      <th></th>\n",
              "      <th>writing score</th>\n",
              "    </tr>\n",
              "    <tr>\n",
              "      <th>race/ethnicity</th>\n",
              "      <th></th>\n",
              "    </tr>\n",
              "  </thead>\n",
              "  <tbody>\n",
              "    <tr>\n",
              "      <th>group A</th>\n",
              "      <td>62.674157</td>\n",
              "    </tr>\n",
              "    <tr>\n",
              "      <th>group B</th>\n",
              "      <td>65.600000</td>\n",
              "    </tr>\n",
              "    <tr>\n",
              "      <th>group C</th>\n",
              "      <td>67.827586</td>\n",
              "    </tr>\n",
              "    <tr>\n",
              "      <th>group D</th>\n",
              "      <td>70.145038</td>\n",
              "    </tr>\n",
              "    <tr>\n",
              "      <th>group E</th>\n",
              "      <td>71.407143</td>\n",
              "    </tr>\n",
              "  </tbody>\n",
              "</table>\n",
              "</div>"
            ],
            "text/plain": [
              "                writing score\n",
              "race/ethnicity               \n",
              "group A             62.674157\n",
              "group B             65.600000\n",
              "group C             67.827586\n",
              "group D             70.145038\n",
              "group E             71.407143"
            ]
          },
          "metadata": {},
          "execution_count": 18
        }
      ]
    },
    {
      "cell_type": "markdown",
      "metadata": {
        "id": "tpC2z15eeBMc"
      },
      "source": [
        "A組寫作平均62.674\n",
        "\n",
        "B組寫作平均65.600\n",
        "\n",
        "C組寫作平均67.827\n",
        "\n",
        "D組寫作平均70.145\n",
        "\n",
        "E組寫作平均71.407"
      ]
    },
    {
      "cell_type": "markdown",
      "metadata": {
        "id": "139cuATBYcRu"
      },
      "source": [
        "不同家長教育程度的成績差異"
      ]
    },
    {
      "cell_type": "code",
      "metadata": {
        "colab": {
          "base_uri": "https://localhost:8080/"
        },
        "id": "g-EQN0gyYk8_",
        "outputId": "d840e992-4b7a-4fe9-e669-eac80b3edfa8"
      },
      "source": [
        "from scipy import stats\n",
        "(f,pv)=stats.f_oneway(data['math score'][data['parental level of education']==\"bachelor's degree\"],\n",
        "                          data['math score'][data['parental level of education']=='some college'],\n",
        "                          data['math score'][data['parental level of education']==\"master's degree\"],\n",
        "                          data['math score'][data['parental level of education']==\"associate's degree\"],\n",
        "                          data['math score'][data['parental level of education']=='some high school'],\n",
        "                          data['math score'][data['parental level of education']=='high school'])\n",
        "print('數學 onewayANOVA=%.2f, p-value=%.2f'%(f,pv))\n",
        "(f,pv)=stats.f_oneway(data['reading score'][data['parental level of education']==\"bachelor's degree\"],\n",
        "                          data['reading score'][data['parental level of education']=='some college'],\n",
        "                          data['reading score'][data['parental level of education']==\"master's degree\"],\n",
        "                          data['reading score'][data['parental level of education']==\"associate's degree\"],\n",
        "                          data['reading score'][data['parental level of education']=='some high school'],\n",
        "                          data['reading score'][data['parental level of education']=='high school'])\n",
        "print('閱讀 onewayANOVA=%.2f, p-value=%.2f'%(f,pv))\n",
        "(f,pv)=stats.f_oneway(data['writing score'][data['parental level of education']==\"bachelor's degree\"],\n",
        "                          data['writing score'][data['parental level of education']=='some college'],\n",
        "                          data['writing score'][data['parental level of education']==\"master's degree\"],\n",
        "                          data['writing score'][data['parental level of education']==\"associate's degree\"],\n",
        "                          data['writing score'][data['parental level of education']=='some high school'],\n",
        "                          data['writing score'][data['parental level of education']=='high school'])\n",
        "print('寫作 onewayANOVA=%.2f, p-value=%.2f'%(f,pv))"
      ],
      "execution_count": null,
      "outputs": [
        {
          "output_type": "stream",
          "name": "stdout",
          "text": [
            "數學 onewayANOVA=6.52, p-value=0.00\n",
            "閱讀 onewayANOVA=9.29, p-value=0.00\n",
            "寫作 onewayANOVA=14.44, p-value=0.00\n"
          ]
        }
      ]
    },
    {
      "cell_type": "markdown",
      "metadata": {
        "id": "xlsG_zhBcvdV"
      },
      "source": [
        "因為p值小於0.05，所以不同家長教育程度的數學/閱讀/寫作成績有顯著差異"
      ]
    },
    {
      "cell_type": "code",
      "metadata": {
        "colab": {
          "base_uri": "https://localhost:8080/",
          "height": 269
        },
        "id": "EGiMXvuaZ9FB",
        "outputId": "9344d21a-dfef-43d4-b6f7-e3da1f1e29ea"
      },
      "source": [
        "a=data.groupby('parental level of education').mean()\n",
        "b=a[[\"math score\"]]\n",
        "b"
      ],
      "execution_count": null,
      "outputs": [
        {
          "output_type": "execute_result",
          "data": {
            "text/html": [
              "<div>\n",
              "<style scoped>\n",
              "    .dataframe tbody tr th:only-of-type {\n",
              "        vertical-align: middle;\n",
              "    }\n",
              "\n",
              "    .dataframe tbody tr th {\n",
              "        vertical-align: top;\n",
              "    }\n",
              "\n",
              "    .dataframe thead th {\n",
              "        text-align: right;\n",
              "    }\n",
              "</style>\n",
              "<table border=\"1\" class=\"dataframe\">\n",
              "  <thead>\n",
              "    <tr style=\"text-align: right;\">\n",
              "      <th></th>\n",
              "      <th>math score</th>\n",
              "    </tr>\n",
              "    <tr>\n",
              "      <th>parental level of education</th>\n",
              "      <th></th>\n",
              "    </tr>\n",
              "  </thead>\n",
              "  <tbody>\n",
              "    <tr>\n",
              "      <th>associate's degree</th>\n",
              "      <td>67.882883</td>\n",
              "    </tr>\n",
              "    <tr>\n",
              "      <th>bachelor's degree</th>\n",
              "      <td>69.389831</td>\n",
              "    </tr>\n",
              "    <tr>\n",
              "      <th>high school</th>\n",
              "      <td>62.137755</td>\n",
              "    </tr>\n",
              "    <tr>\n",
              "      <th>master's degree</th>\n",
              "      <td>69.745763</td>\n",
              "    </tr>\n",
              "    <tr>\n",
              "      <th>some college</th>\n",
              "      <td>67.128319</td>\n",
              "    </tr>\n",
              "    <tr>\n",
              "      <th>some high school</th>\n",
              "      <td>63.497207</td>\n",
              "    </tr>\n",
              "  </tbody>\n",
              "</table>\n",
              "</div>"
            ],
            "text/plain": [
              "                             math score\n",
              "parental level of education            \n",
              "associate's degree            67.882883\n",
              "bachelor's degree             69.389831\n",
              "high school                   62.137755\n",
              "master's degree               69.745763\n",
              "some college                  67.128319\n",
              "some high school              63.497207"
            ]
          },
          "metadata": {},
          "execution_count": 20
        }
      ]
    },
    {
      "cell_type": "markdown",
      "metadata": {
        "id": "xn8wBsi6eU5f"
      },
      "source": [
        "副學士學位數學平均67.883\n",
        "\n",
        "學士學位數學平均69.390\n",
        "\n",
        "高中數學平均62.138\n",
        "\n",
        "碩士學位數學平均69.746\n",
        "\n",
        "五專數學平均67.128\n",
        "\n",
        "高職數學平均63.497"
      ]
    },
    {
      "cell_type": "code",
      "metadata": {
        "colab": {
          "base_uri": "https://localhost:8080/",
          "height": 269
        },
        "id": "XSVcLM9Qa0PE",
        "outputId": "c9a28a8b-f1cd-48a5-862c-77b5493b31e4"
      },
      "source": [
        "a=data.groupby('parental level of education').mean()\n",
        "b=a[[\"reading score\"]]\n",
        "b"
      ],
      "execution_count": null,
      "outputs": [
        {
          "output_type": "execute_result",
          "data": {
            "text/html": [
              "<div>\n",
              "<style scoped>\n",
              "    .dataframe tbody tr th:only-of-type {\n",
              "        vertical-align: middle;\n",
              "    }\n",
              "\n",
              "    .dataframe tbody tr th {\n",
              "        vertical-align: top;\n",
              "    }\n",
              "\n",
              "    .dataframe thead th {\n",
              "        text-align: right;\n",
              "    }\n",
              "</style>\n",
              "<table border=\"1\" class=\"dataframe\">\n",
              "  <thead>\n",
              "    <tr style=\"text-align: right;\">\n",
              "      <th></th>\n",
              "      <th>reading score</th>\n",
              "    </tr>\n",
              "    <tr>\n",
              "      <th>parental level of education</th>\n",
              "      <th></th>\n",
              "    </tr>\n",
              "  </thead>\n",
              "  <tbody>\n",
              "    <tr>\n",
              "      <th>associate's degree</th>\n",
              "      <td>70.927928</td>\n",
              "    </tr>\n",
              "    <tr>\n",
              "      <th>bachelor's degree</th>\n",
              "      <td>73.000000</td>\n",
              "    </tr>\n",
              "    <tr>\n",
              "      <th>high school</th>\n",
              "      <td>64.704082</td>\n",
              "    </tr>\n",
              "    <tr>\n",
              "      <th>master's degree</th>\n",
              "      <td>75.372881</td>\n",
              "    </tr>\n",
              "    <tr>\n",
              "      <th>some college</th>\n",
              "      <td>69.460177</td>\n",
              "    </tr>\n",
              "    <tr>\n",
              "      <th>some high school</th>\n",
              "      <td>66.938547</td>\n",
              "    </tr>\n",
              "  </tbody>\n",
              "</table>\n",
              "</div>"
            ],
            "text/plain": [
              "                             reading score\n",
              "parental level of education               \n",
              "associate's degree               70.927928\n",
              "bachelor's degree                73.000000\n",
              "high school                      64.704082\n",
              "master's degree                  75.372881\n",
              "some college                     69.460177\n",
              "some high school                 66.938547"
            ]
          },
          "metadata": {},
          "execution_count": 21
        }
      ]
    },
    {
      "cell_type": "markdown",
      "metadata": {
        "id": "yzHfkxMRexnS"
      },
      "source": [
        "副學士學位閱讀平均70.927\n",
        "\n",
        "學士學位閱讀平均73.000\n",
        "\n",
        "高中閱讀平均64.704\n",
        "\n",
        "碩士學位閱讀平均75.372\n",
        "\n",
        "五專閱讀平均69.460\n",
        "\n",
        "高職閱讀平均66.939"
      ]
    },
    {
      "cell_type": "code",
      "metadata": {
        "colab": {
          "base_uri": "https://localhost:8080/",
          "height": 269
        },
        "id": "IkV3Udkya2Hq",
        "outputId": "97d98aab-c4ee-4a08-8b17-4cb63c0b5509"
      },
      "source": [
        "a=data.groupby('parental level of education').mean()\n",
        "b=a[[\"writing score\"]]\n",
        "b"
      ],
      "execution_count": null,
      "outputs": [
        {
          "output_type": "execute_result",
          "data": {
            "text/html": [
              "<div>\n",
              "<style scoped>\n",
              "    .dataframe tbody tr th:only-of-type {\n",
              "        vertical-align: middle;\n",
              "    }\n",
              "\n",
              "    .dataframe tbody tr th {\n",
              "        vertical-align: top;\n",
              "    }\n",
              "\n",
              "    .dataframe thead th {\n",
              "        text-align: right;\n",
              "    }\n",
              "</style>\n",
              "<table border=\"1\" class=\"dataframe\">\n",
              "  <thead>\n",
              "    <tr style=\"text-align: right;\">\n",
              "      <th></th>\n",
              "      <th>writing score</th>\n",
              "    </tr>\n",
              "    <tr>\n",
              "      <th>parental level of education</th>\n",
              "      <th></th>\n",
              "    </tr>\n",
              "  </thead>\n",
              "  <tbody>\n",
              "    <tr>\n",
              "      <th>associate's degree</th>\n",
              "      <td>69.896396</td>\n",
              "    </tr>\n",
              "    <tr>\n",
              "      <th>bachelor's degree</th>\n",
              "      <td>73.381356</td>\n",
              "    </tr>\n",
              "    <tr>\n",
              "      <th>high school</th>\n",
              "      <td>62.448980</td>\n",
              "    </tr>\n",
              "    <tr>\n",
              "      <th>master's degree</th>\n",
              "      <td>75.677966</td>\n",
              "    </tr>\n",
              "    <tr>\n",
              "      <th>some college</th>\n",
              "      <td>68.840708</td>\n",
              "    </tr>\n",
              "    <tr>\n",
              "      <th>some high school</th>\n",
              "      <td>64.888268</td>\n",
              "    </tr>\n",
              "  </tbody>\n",
              "</table>\n",
              "</div>"
            ],
            "text/plain": [
              "                             writing score\n",
              "parental level of education               \n",
              "associate's degree               69.896396\n",
              "bachelor's degree                73.381356\n",
              "high school                      62.448980\n",
              "master's degree                  75.677966\n",
              "some college                     68.840708\n",
              "some high school                 64.888268"
            ]
          },
          "metadata": {},
          "execution_count": 22
        }
      ]
    },
    {
      "cell_type": "markdown",
      "metadata": {
        "id": "na4v_T6hfMUr"
      },
      "source": [
        "副學士學位寫作平均69.896\n",
        "\n",
        "學士學位寫作平均73.381\n",
        "\n",
        "高中寫作平均62.449\n",
        "\n",
        "碩士學位寫作平均75.678\n",
        "\n",
        "五專寫作平均68.841\n",
        "\n",
        "高職寫作平均64.888"
      ]
    },
    {
      "cell_type": "markdown",
      "metadata": {
        "id": "1pkcKK9FbI-U"
      },
      "source": [
        "不同午餐費用的差異"
      ]
    },
    {
      "cell_type": "code",
      "metadata": {
        "colab": {
          "base_uri": "https://localhost:8080/"
        },
        "id": "uElNDnpebLem",
        "outputId": "424d7452-2a6f-4292-df92-d4712e182db8"
      },
      "source": [
        "from scipy import stats\n",
        "(t,p)=stats.ttest_ind(data['math score'][data['lunch']=='standard'],data['math score'][data['lunch']=='free/reduced'])\n",
        "print('數學 t value= %.2f,  p_value= %.2f'%(t,p))\n",
        "(t,p)=stats.ttest_ind(data['reading score'][data['lunch']=='standard'],data['reading score'][data['lunch']=='free/reduced'])\n",
        "print('閱讀 t value= %.2f,  p_value= %.2f'%(t,p))\n",
        "(t,p)=stats.ttest_ind(data['writing score'][data['lunch']=='standard'],data['writing score'][data['lunch']=='free/reduced'])\n",
        "print('寫作 t value= %.2f,  p_value= %.2f'%(t,p))"
      ],
      "execution_count": null,
      "outputs": [
        {
          "output_type": "stream",
          "name": "stdout",
          "text": [
            "數學 t value= 11.84,  p_value= 0.00\n",
            "閱讀 t value= 7.45,  p_value= 0.00\n",
            "寫作 t value= 8.01,  p_value= 0.00\n"
          ]
        }
      ]
    },
    {
      "cell_type": "markdown",
      "metadata": {
        "id": "kWXrvOCPc0Gh"
      },
      "source": [
        "因為p值小於0.05，所以不同午餐費用的數學/閱讀/寫作成績有顯著差異"
      ]
    },
    {
      "cell_type": "code",
      "metadata": {
        "colab": {
          "base_uri": "https://localhost:8080/",
          "height": 143
        },
        "id": "0ZUR7juSbbxU",
        "outputId": "417eff00-afe4-4bc1-d2f9-577d497d5b3e"
      },
      "source": [
        "a=data.groupby('lunch').mean()\n",
        "b=a[[\"math score\"]]\n",
        "b"
      ],
      "execution_count": null,
      "outputs": [
        {
          "output_type": "execute_result",
          "data": {
            "text/html": [
              "<div>\n",
              "<style scoped>\n",
              "    .dataframe tbody tr th:only-of-type {\n",
              "        vertical-align: middle;\n",
              "    }\n",
              "\n",
              "    .dataframe tbody tr th {\n",
              "        vertical-align: top;\n",
              "    }\n",
              "\n",
              "    .dataframe thead th {\n",
              "        text-align: right;\n",
              "    }\n",
              "</style>\n",
              "<table border=\"1\" class=\"dataframe\">\n",
              "  <thead>\n",
              "    <tr style=\"text-align: right;\">\n",
              "      <th></th>\n",
              "      <th>math score</th>\n",
              "    </tr>\n",
              "    <tr>\n",
              "      <th>lunch</th>\n",
              "      <th></th>\n",
              "    </tr>\n",
              "  </thead>\n",
              "  <tbody>\n",
              "    <tr>\n",
              "      <th>free/reduced</th>\n",
              "      <td>58.921127</td>\n",
              "    </tr>\n",
              "    <tr>\n",
              "      <th>standard</th>\n",
              "      <td>70.034109</td>\n",
              "    </tr>\n",
              "  </tbody>\n",
              "</table>\n",
              "</div>"
            ],
            "text/plain": [
              "              math score\n",
              "lunch                   \n",
              "free/reduced   58.921127\n",
              "standard       70.034109"
            ]
          },
          "metadata": {},
          "execution_count": 24
        }
      ]
    },
    {
      "cell_type": "markdown",
      "metadata": {
        "id": "sUcSiHZofkH-"
      },
      "source": [
        "免費/較便宜數學平均58.921\n",
        "\n",
        "標準數學平均70.034"
      ]
    },
    {
      "cell_type": "code",
      "metadata": {
        "colab": {
          "base_uri": "https://localhost:8080/",
          "height": 143
        },
        "id": "Y_0UCl6FbcKQ",
        "outputId": "d73107df-4353-48ad-d69d-f3b319c41034"
      },
      "source": [
        "a=data.groupby('lunch').mean()\n",
        "b=a[[\"reading score\"]]\n",
        "b"
      ],
      "execution_count": null,
      "outputs": [
        {
          "output_type": "execute_result",
          "data": {
            "text/html": [
              "<div>\n",
              "<style scoped>\n",
              "    .dataframe tbody tr th:only-of-type {\n",
              "        vertical-align: middle;\n",
              "    }\n",
              "\n",
              "    .dataframe tbody tr th {\n",
              "        vertical-align: top;\n",
              "    }\n",
              "\n",
              "    .dataframe thead th {\n",
              "        text-align: right;\n",
              "    }\n",
              "</style>\n",
              "<table border=\"1\" class=\"dataframe\">\n",
              "  <thead>\n",
              "    <tr style=\"text-align: right;\">\n",
              "      <th></th>\n",
              "      <th>reading score</th>\n",
              "    </tr>\n",
              "    <tr>\n",
              "      <th>lunch</th>\n",
              "      <th></th>\n",
              "    </tr>\n",
              "  </thead>\n",
              "  <tbody>\n",
              "    <tr>\n",
              "      <th>free/reduced</th>\n",
              "      <td>64.653521</td>\n",
              "    </tr>\n",
              "    <tr>\n",
              "      <th>standard</th>\n",
              "      <td>71.654264</td>\n",
              "    </tr>\n",
              "  </tbody>\n",
              "</table>\n",
              "</div>"
            ],
            "text/plain": [
              "              reading score\n",
              "lunch                      \n",
              "free/reduced      64.653521\n",
              "standard          71.654264"
            ]
          },
          "metadata": {},
          "execution_count": 25
        }
      ]
    },
    {
      "cell_type": "markdown",
      "metadata": {
        "id": "Th0LraaCfqLG"
      },
      "source": [
        "免費/較便宜閱讀平均64.654\n",
        "\n",
        "標準閱讀平均71.654"
      ]
    },
    {
      "cell_type": "code",
      "metadata": {
        "colab": {
          "base_uri": "https://localhost:8080/",
          "height": 143
        },
        "id": "RlviTeCgbceT",
        "outputId": "2d237111-5bbe-407c-9940-81c72508d371"
      },
      "source": [
        "a=data.groupby('lunch').mean()\n",
        "b=a[[\"writing score\"]]\n",
        "b"
      ],
      "execution_count": null,
      "outputs": [
        {
          "output_type": "execute_result",
          "data": {
            "text/html": [
              "<div>\n",
              "<style scoped>\n",
              "    .dataframe tbody tr th:only-of-type {\n",
              "        vertical-align: middle;\n",
              "    }\n",
              "\n",
              "    .dataframe tbody tr th {\n",
              "        vertical-align: top;\n",
              "    }\n",
              "\n",
              "    .dataframe thead th {\n",
              "        text-align: right;\n",
              "    }\n",
              "</style>\n",
              "<table border=\"1\" class=\"dataframe\">\n",
              "  <thead>\n",
              "    <tr style=\"text-align: right;\">\n",
              "      <th></th>\n",
              "      <th>writing score</th>\n",
              "    </tr>\n",
              "    <tr>\n",
              "      <th>lunch</th>\n",
              "      <th></th>\n",
              "    </tr>\n",
              "  </thead>\n",
              "  <tbody>\n",
              "    <tr>\n",
              "      <th>free/reduced</th>\n",
              "      <td>63.022535</td>\n",
              "    </tr>\n",
              "    <tr>\n",
              "      <th>standard</th>\n",
              "      <td>70.823256</td>\n",
              "    </tr>\n",
              "  </tbody>\n",
              "</table>\n",
              "</div>"
            ],
            "text/plain": [
              "              writing score\n",
              "lunch                      \n",
              "free/reduced      63.022535\n",
              "standard          70.823256"
            ]
          },
          "metadata": {},
          "execution_count": 26
        }
      ]
    },
    {
      "cell_type": "markdown",
      "metadata": {
        "id": "jlG418T5fqyB"
      },
      "source": [
        "免費/較便宜寫作平均63.023\n",
        "\n",
        "標準寫作平均70.823"
      ]
    },
    {
      "cell_type": "markdown",
      "metadata": {
        "id": "j-tWuetfbqjd"
      },
      "source": [
        "不同考試準備課程的差異"
      ]
    },
    {
      "cell_type": "code",
      "metadata": {
        "colab": {
          "base_uri": "https://localhost:8080/"
        },
        "id": "dVo4eom5bwQd",
        "outputId": "afa4d665-f57c-4a7a-879f-469cef45c3be"
      },
      "source": [
        "from scipy import stats\n",
        "(t,p)=stats.ttest_ind(data['math score'][data['test preparation course']=='none'],data['math score'][data['test preparation course']=='completed'])\n",
        "print('數學 t value= %.2f,  p_value= %.2f'%(t,p))\n",
        "(t,p)=stats.ttest_ind(data['reading score'][data['test preparation course']=='none'],data['reading score'][data['test preparation course']=='completed'])\n",
        "print('閱讀 t value= %.2f,  p_value= %.2f'%(t,p))\n",
        "(t,p)=stats.ttest_ind(data['writing score'][data['test preparation course']=='none'],data['writing score'][data['test preparation course']=='completed'])\n",
        "print('寫作 t value= %.2f,  p_value= %.2f'%(t,p))"
      ],
      "execution_count": null,
      "outputs": [
        {
          "output_type": "stream",
          "name": "stdout",
          "text": [
            "數學 t value= -5.70,  p_value= 0.00\n",
            "閱讀 t value= -7.87,  p_value= 0.00\n",
            "寫作 t value= -10.41,  p_value= 0.00\n"
          ]
        }
      ]
    },
    {
      "cell_type": "markdown",
      "metadata": {
        "id": "jLEYUvCxc3tR"
      },
      "source": [
        "因為p值小於0.05，所以不同考試準備課程的數學/閱讀/寫作成績有顯著差異"
      ]
    },
    {
      "cell_type": "code",
      "metadata": {
        "colab": {
          "base_uri": "https://localhost:8080/",
          "height": 143
        },
        "id": "bsa_hJGvcHGX",
        "outputId": "2e672bfd-ad2b-4991-e881-810f91111581"
      },
      "source": [
        "a=data.groupby('test preparation course').mean()\n",
        "b=a[[\"math score\"]]\n",
        "b"
      ],
      "execution_count": null,
      "outputs": [
        {
          "output_type": "execute_result",
          "data": {
            "text/html": [
              "<div>\n",
              "<style scoped>\n",
              "    .dataframe tbody tr th:only-of-type {\n",
              "        vertical-align: middle;\n",
              "    }\n",
              "\n",
              "    .dataframe tbody tr th {\n",
              "        vertical-align: top;\n",
              "    }\n",
              "\n",
              "    .dataframe thead th {\n",
              "        text-align: right;\n",
              "    }\n",
              "</style>\n",
              "<table border=\"1\" class=\"dataframe\">\n",
              "  <thead>\n",
              "    <tr style=\"text-align: right;\">\n",
              "      <th></th>\n",
              "      <th>math score</th>\n",
              "    </tr>\n",
              "    <tr>\n",
              "      <th>test preparation course</th>\n",
              "      <th></th>\n",
              "    </tr>\n",
              "  </thead>\n",
              "  <tbody>\n",
              "    <tr>\n",
              "      <th>completed</th>\n",
              "      <td>69.695531</td>\n",
              "    </tr>\n",
              "    <tr>\n",
              "      <th>none</th>\n",
              "      <td>64.077882</td>\n",
              "    </tr>\n",
              "  </tbody>\n",
              "</table>\n",
              "</div>"
            ],
            "text/plain": [
              "                         math score\n",
              "test preparation course            \n",
              "completed                 69.695531\n",
              "none                      64.077882"
            ]
          },
          "metadata": {},
          "execution_count": 28
        }
      ]
    },
    {
      "cell_type": "markdown",
      "metadata": {
        "id": "aFy8GxJSgF9q"
      },
      "source": [
        "完成數學平均69.700\n",
        "\n",
        "未完成數學平均64.078"
      ]
    },
    {
      "cell_type": "code",
      "metadata": {
        "colab": {
          "base_uri": "https://localhost:8080/",
          "height": 143
        },
        "id": "JNxQfVDAcHb7",
        "outputId": "a185381e-e3e1-45af-df04-859a4509b754"
      },
      "source": [
        "a=data.groupby('test preparation course').mean()\n",
        "b=a[[\"reading score\"]]\n",
        "b"
      ],
      "execution_count": null,
      "outputs": [
        {
          "output_type": "execute_result",
          "data": {
            "text/html": [
              "<div>\n",
              "<style scoped>\n",
              "    .dataframe tbody tr th:only-of-type {\n",
              "        vertical-align: middle;\n",
              "    }\n",
              "\n",
              "    .dataframe tbody tr th {\n",
              "        vertical-align: top;\n",
              "    }\n",
              "\n",
              "    .dataframe thead th {\n",
              "        text-align: right;\n",
              "    }\n",
              "</style>\n",
              "<table border=\"1\" class=\"dataframe\">\n",
              "  <thead>\n",
              "    <tr style=\"text-align: right;\">\n",
              "      <th></th>\n",
              "      <th>reading score</th>\n",
              "    </tr>\n",
              "    <tr>\n",
              "      <th>test preparation course</th>\n",
              "      <th></th>\n",
              "    </tr>\n",
              "  </thead>\n",
              "  <tbody>\n",
              "    <tr>\n",
              "      <th>completed</th>\n",
              "      <td>73.893855</td>\n",
              "    </tr>\n",
              "    <tr>\n",
              "      <th>none</th>\n",
              "      <td>66.534268</td>\n",
              "    </tr>\n",
              "  </tbody>\n",
              "</table>\n",
              "</div>"
            ],
            "text/plain": [
              "                         reading score\n",
              "test preparation course               \n",
              "completed                    73.893855\n",
              "none                         66.534268"
            ]
          },
          "metadata": {},
          "execution_count": 29
        }
      ]
    },
    {
      "cell_type": "markdown",
      "metadata": {
        "id": "WCkz70olgPWE"
      },
      "source": [
        "完成閱讀平均73.894\n",
        "\n",
        "未完成閱讀平均66.534"
      ]
    },
    {
      "cell_type": "code",
      "metadata": {
        "colab": {
          "base_uri": "https://localhost:8080/",
          "height": 143
        },
        "id": "MO7ZXURRcHxH",
        "outputId": "fd806912-bf99-46bb-b067-6d5ec5ff052c"
      },
      "source": [
        "a=data.groupby('test preparation course').mean()\n",
        "b=a[[\"writing score\"]]\n",
        "b"
      ],
      "execution_count": null,
      "outputs": [
        {
          "output_type": "execute_result",
          "data": {
            "text/html": [
              "<div>\n",
              "<style scoped>\n",
              "    .dataframe tbody tr th:only-of-type {\n",
              "        vertical-align: middle;\n",
              "    }\n",
              "\n",
              "    .dataframe tbody tr th {\n",
              "        vertical-align: top;\n",
              "    }\n",
              "\n",
              "    .dataframe thead th {\n",
              "        text-align: right;\n",
              "    }\n",
              "</style>\n",
              "<table border=\"1\" class=\"dataframe\">\n",
              "  <thead>\n",
              "    <tr style=\"text-align: right;\">\n",
              "      <th></th>\n",
              "      <th>writing score</th>\n",
              "    </tr>\n",
              "    <tr>\n",
              "      <th>test preparation course</th>\n",
              "      <th></th>\n",
              "    </tr>\n",
              "  </thead>\n",
              "  <tbody>\n",
              "    <tr>\n",
              "      <th>completed</th>\n",
              "      <td>74.418994</td>\n",
              "    </tr>\n",
              "    <tr>\n",
              "      <th>none</th>\n",
              "      <td>64.504673</td>\n",
              "    </tr>\n",
              "  </tbody>\n",
              "</table>\n",
              "</div>"
            ],
            "text/plain": [
              "                         writing score\n",
              "test preparation course               \n",
              "completed                    74.418994\n",
              "none                         64.504673"
            ]
          },
          "metadata": {},
          "execution_count": 30
        }
      ]
    },
    {
      "cell_type": "markdown",
      "metadata": {
        "id": "q3kSPIPxgXWf"
      },
      "source": [
        "完成寫作平均74.419\n",
        "\n",
        "未完成寫作平均64.505"
      ]
    },
    {
      "cell_type": "markdown",
      "metadata": {
        "id": "1e5aqB_XnTw9"
      },
      "source": [
        "#第三題"
      ]
    },
    {
      "cell_type": "code",
      "metadata": {
        "colab": {
          "base_uri": "https://localhost:8080/",
          "height": 143
        },
        "id": "5UrWFBvomhMb",
        "outputId": "c9055368-858d-4c1b-a2a5-c14048805c30"
      },
      "source": [
        "qu=['math score','reading score','writing score']\n",
        "from scipy import stats\n",
        "name=[]\n",
        "alist=[]\n",
        "pvlist=[]\n",
        "for i in range(len(qu)):\n",
        "  (a,pv)=stats.pearsonr(data['math score'],data[qu[i]]) \n",
        "  name.append(qu[i])\n",
        "  alist.append(a)\n",
        "  pvlist.append(pv)\n",
        "pd.set_option('display.float_format',lambda x:'%.5f'%x)\n",
        "result=pd.DataFrame(alist,name,columns=['相關係數'])\n",
        "result.insert(1,'p值',pvlist) \n",
        "result"
      ],
      "execution_count": null,
      "outputs": [
        {
          "output_type": "execute_result",
          "data": {
            "text/html": [
              "<div>\n",
              "<style scoped>\n",
              "    .dataframe tbody tr th:only-of-type {\n",
              "        vertical-align: middle;\n",
              "    }\n",
              "\n",
              "    .dataframe tbody tr th {\n",
              "        vertical-align: top;\n",
              "    }\n",
              "\n",
              "    .dataframe thead th {\n",
              "        text-align: right;\n",
              "    }\n",
              "</style>\n",
              "<table border=\"1\" class=\"dataframe\">\n",
              "  <thead>\n",
              "    <tr style=\"text-align: right;\">\n",
              "      <th></th>\n",
              "      <th>相關係數</th>\n",
              "      <th>p值</th>\n",
              "    </tr>\n",
              "  </thead>\n",
              "  <tbody>\n",
              "    <tr>\n",
              "      <th>math score</th>\n",
              "      <td>1.00000</td>\n",
              "      <td>0.00000</td>\n",
              "    </tr>\n",
              "    <tr>\n",
              "      <th>reading score</th>\n",
              "      <td>0.81758</td>\n",
              "      <td>0.00000</td>\n",
              "    </tr>\n",
              "    <tr>\n",
              "      <th>writing score</th>\n",
              "      <td>0.80264</td>\n",
              "      <td>0.00000</td>\n",
              "    </tr>\n",
              "  </tbody>\n",
              "</table>\n",
              "</div>"
            ],
            "text/plain": [
              "                 相關係數      p值\n",
              "math score    1.00000 0.00000\n",
              "reading score 0.81758 0.00000\n",
              "writing score 0.80264 0.00000"
            ]
          },
          "metadata": {},
          "execution_count": 31
        }
      ]
    },
    {
      "cell_type": "code",
      "metadata": {
        "colab": {
          "base_uri": "https://localhost:8080/",
          "height": 143
        },
        "id": "5u9zUoVwo8zI",
        "outputId": "b46aa358-d3ea-4d0f-a94c-b1ad095c6d5f"
      },
      "source": [
        "qu=['math score','reading score','writing score']\n",
        "from scipy import stats\n",
        "name=[]\n",
        "alist=[]\n",
        "pvlist=[]\n",
        "for i in range(len(qu)):\n",
        "  (a,pv)=stats.pearsonr(data['reading score'],data[qu[i]]) \n",
        "  name.append(qu[i])\n",
        "  alist.append(a)\n",
        "  pvlist.append(pv)\n",
        "pd.set_option('display.float_format',lambda x:'%.5f'%x)\n",
        "result=pd.DataFrame(alist,name,columns=['相關係數'])\n",
        "result.insert(1,'p值',pvlist) \n",
        "result"
      ],
      "execution_count": null,
      "outputs": [
        {
          "output_type": "execute_result",
          "data": {
            "text/html": [
              "<div>\n",
              "<style scoped>\n",
              "    .dataframe tbody tr th:only-of-type {\n",
              "        vertical-align: middle;\n",
              "    }\n",
              "\n",
              "    .dataframe tbody tr th {\n",
              "        vertical-align: top;\n",
              "    }\n",
              "\n",
              "    .dataframe thead th {\n",
              "        text-align: right;\n",
              "    }\n",
              "</style>\n",
              "<table border=\"1\" class=\"dataframe\">\n",
              "  <thead>\n",
              "    <tr style=\"text-align: right;\">\n",
              "      <th></th>\n",
              "      <th>相關係數</th>\n",
              "      <th>p值</th>\n",
              "    </tr>\n",
              "  </thead>\n",
              "  <tbody>\n",
              "    <tr>\n",
              "      <th>math score</th>\n",
              "      <td>0.81758</td>\n",
              "      <td>0.00000</td>\n",
              "    </tr>\n",
              "    <tr>\n",
              "      <th>reading score</th>\n",
              "      <td>1.00000</td>\n",
              "      <td>0.00000</td>\n",
              "    </tr>\n",
              "    <tr>\n",
              "      <th>writing score</th>\n",
              "      <td>0.95460</td>\n",
              "      <td>0.00000</td>\n",
              "    </tr>\n",
              "  </tbody>\n",
              "</table>\n",
              "</div>"
            ],
            "text/plain": [
              "                 相關係數      p值\n",
              "math score    0.81758 0.00000\n",
              "reading score 1.00000 0.00000\n",
              "writing score 0.95460 0.00000"
            ]
          },
          "metadata": {},
          "execution_count": 32
        }
      ]
    },
    {
      "cell_type": "code",
      "metadata": {
        "colab": {
          "base_uri": "https://localhost:8080/",
          "height": 143
        },
        "id": "00ZB9QOlpUZU",
        "outputId": "b9f79800-9456-4026-cadc-70f3373ba49f"
      },
      "source": [
        "qu=['math score','reading score','writing score']\n",
        "from scipy import stats\n",
        "name=[]\n",
        "alist=[]\n",
        "pvlist=[]\n",
        "for i in range(len(qu)):\n",
        "  (a,pv)=stats.pearsonr(data['writing score'],data[qu[i]]) \n",
        "  name.append(qu[i])\n",
        "  alist.append(a)\n",
        "  pvlist.append(pv)\n",
        "pd.set_option('display.float_format',lambda x:'%.5f'%x)\n",
        "result=pd.DataFrame(alist,name,columns=['相關係數'])\n",
        "result.insert(1,'p值',pvlist) \n",
        "result"
      ],
      "execution_count": null,
      "outputs": [
        {
          "output_type": "execute_result",
          "data": {
            "text/html": [
              "<div>\n",
              "<style scoped>\n",
              "    .dataframe tbody tr th:only-of-type {\n",
              "        vertical-align: middle;\n",
              "    }\n",
              "\n",
              "    .dataframe tbody tr th {\n",
              "        vertical-align: top;\n",
              "    }\n",
              "\n",
              "    .dataframe thead th {\n",
              "        text-align: right;\n",
              "    }\n",
              "</style>\n",
              "<table border=\"1\" class=\"dataframe\">\n",
              "  <thead>\n",
              "    <tr style=\"text-align: right;\">\n",
              "      <th></th>\n",
              "      <th>相關係數</th>\n",
              "      <th>p值</th>\n",
              "    </tr>\n",
              "  </thead>\n",
              "  <tbody>\n",
              "    <tr>\n",
              "      <th>math score</th>\n",
              "      <td>0.80264</td>\n",
              "      <td>0.00000</td>\n",
              "    </tr>\n",
              "    <tr>\n",
              "      <th>reading score</th>\n",
              "      <td>0.95460</td>\n",
              "      <td>0.00000</td>\n",
              "    </tr>\n",
              "    <tr>\n",
              "      <th>writing score</th>\n",
              "      <td>1.00000</td>\n",
              "      <td>0.00000</td>\n",
              "    </tr>\n",
              "  </tbody>\n",
              "</table>\n",
              "</div>"
            ],
            "text/plain": [
              "                 相關係數      p值\n",
              "math score    0.80264 0.00000\n",
              "reading score 0.95460 0.00000\n",
              "writing score 1.00000 0.00000"
            ]
          },
          "metadata": {},
          "execution_count": 33
        }
      ]
    },
    {
      "cell_type": "markdown",
      "metadata": {
        "id": "6rNEoApjsrQG"
      },
      "source": [
        "第三題分析\n",
        "\n",
        "因為p值小於0.05\n",
        "\n",
        "所以三個成績有顯著差異"
      ]
    },
    {
      "cell_type": "markdown",
      "metadata": {
        "id": "Ls_FaCgSNJAG"
      },
      "source": [
        "#綜合上述\n",
        "\n",
        "因為p<0.05\n",
        "\n",
        "所以不同的gender、race/ethnicity、parental level of education、lunch、test preparation和course對三個成績都有顯著差異，三個成績之間也有顯著差異\n",
        "\n"
      ]
    }
  ]
}